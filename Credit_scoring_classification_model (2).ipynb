{
  "cells": [
    {
      "cell_type": "markdown",
      "metadata": {
        "id": "-pvKxJjsNSoE",
        "pycharm": {
          "name": "#%% md\n"
        }
      },
      "source": [
        "![giskard_logo.png](https://raw.githubusercontent.com/Giskard-AI/giskard/main/readme/Logo_full_darkgreen.png)"
      ]
    },
    {
      "cell_type": "markdown",
      "metadata": {
        "cell_id": "a9b17467105f4031a3f9eae70ef4138f",
        "deepnote_cell_height": 134,
        "deepnote_cell_type": "markdown",
        "id": "PKcOi3D37xbW",
        "pycharm": {
          "name": "#%% md\n"
        },
        "tags": []
      },
      "source": [
        "# About Giskard\n",
        "\n",
        "Open-Source CI/CD platform for ML teams. Deliver ML products, better & faster. \n",
        "\n",
        "*   Collaborate faster with feedback from business stakeholders.\n",
        "*   Deploy automated tests to eliminate regressions, errors & biases.\n",
        "\n",
        "🏡 [Website](https://giskard.ai/)\n",
        "\n",
        "📗 [Documentation](https://docs.giskard.ai/)"
      ]
    },
    {
      "cell_type": "markdown",
      "metadata": {
        "id": "UQilKQb01M8Z"
      },
      "source": [
        "## Installing `giskard`"
      ]
    },
    {
      "cell_type": "code",
      "execution_count": null,
      "metadata": {
        "colab": {
          "base_uri": "https://localhost:8080/",
          "height": 1000
        },
        "id": "69BDV-5T1M8b",
        "outputId": "ee2d1b92-304b-416d-beec-3202b3c5a376"
      },
      "outputs": [
        {
          "output_type": "stream",
          "name": "stdout",
          "text": [
            "Looking in indexes: https://pypi.org/simple, https://us-python.pkg.dev/colab-wheels/public/simple/\n",
            "Collecting giskard\n",
            "  Downloading giskard-1.9.1-py3-none-any.whl (69 kB)\n",
            "\u001b[2K     \u001b[90m━━━━━━━━━━━━━━━━━━━━━━━━━━━━━━━━━━━━━━━━\u001b[0m \u001b[32m69.7/69.7 kB\u001b[0m \u001b[31m3.0 MB/s\u001b[0m eta \u001b[36m0:00:00\u001b[0m\n",
            "\u001b[?25hRequirement already satisfied: beautifulsoup4<5.0.0,>=4.11.1 in /usr/local/lib/python3.10/dist-packages (from giskard) (4.11.2)\n",
            "Requirement already satisfied: click<9.0.0,>=8.1.3 in /usr/local/lib/python3.10/dist-packages (from giskard) (8.1.3)\n",
            "Requirement already satisfied: cloudpickle<3.0.0,>=2.1.0 in /usr/local/lib/python3.10/dist-packages (from giskard) (2.2.1)\n",
            "Collecting eli5<0.14.0,>=0.13.0 (from giskard)\n",
            "  Downloading eli5-0.13.0.tar.gz (216 kB)\n",
            "\u001b[2K     \u001b[90m━━━━━━━━━━━━━━━━━━━━━━━━━━━━━━━━━━━━━━\u001b[0m \u001b[32m216.2/216.2 kB\u001b[0m \u001b[31m13.3 MB/s\u001b[0m eta \u001b[36m0:00:00\u001b[0m\n",
            "\u001b[?25h  Preparing metadata (setup.py) ... \u001b[?25l\u001b[?25hdone\n",
            "Collecting grpcio<=1.51.1,>=1.46.3 (from giskard)\n",
            "  Downloading grpcio-1.51.1-cp310-cp310-manylinux_2_17_x86_64.manylinux2014_x86_64.whl (4.8 MB)\n",
            "\u001b[2K     \u001b[90m━━━━━━━━━━━━━━━━━━━━━━━━━━━━━━━━━━━━━━━━\u001b[0m \u001b[32m4.8/4.8 MB\u001b[0m \u001b[31m43.5 MB/s\u001b[0m eta \u001b[36m0:00:00\u001b[0m\n",
            "\u001b[?25hRequirement already satisfied: grpcio-status<=1.51.1,>=1.46.3 in /usr/local/lib/python3.10/dist-packages (from giskard) (1.48.2)\n",
            "Collecting importlib_metadata<5.0.0,>=4.11.4 (from giskard)\n",
            "  Downloading importlib_metadata-4.13.0-py3-none-any.whl (23 kB)\n",
            "Requirement already satisfied: ipython<8.0.0,>=7.0.0 in /usr/local/lib/python3.10/dist-packages (from giskard) (7.34.0)\n",
            "Collecting lockfile<0.13.0,>=0.12.2 (from giskard)\n",
            "  Downloading lockfile-0.12.2-py2.py3-none-any.whl (13 kB)\n",
            "Collecting mixpanel<5.0.0,>=4.10.0 (from giskard)\n",
            "  Downloading mixpanel-4.10.0-py2.py3-none-any.whl (8.9 kB)\n",
            "Collecting numpy<1.22.0,>=1.21.6 (from giskard)\n",
            "  Downloading numpy-1.21.6-cp310-cp310-manylinux_2_17_x86_64.manylinux2014_x86_64.whl (15.9 MB)\n",
            "\u001b[2K     \u001b[90m━━━━━━━━━━━━━━━━━━━━━━━━━━━━━━━━━━━━━━━━\u001b[0m \u001b[32m15.9/15.9 MB\u001b[0m \u001b[31m32.4 MB/s\u001b[0m eta \u001b[36m0:00:00\u001b[0m\n",
            "\u001b[?25hRequirement already satisfied: pandas<2.0.0,>=1.3.5 in /usr/local/lib/python3.10/dist-packages (from giskard) (1.5.3)\n",
            "Requirement already satisfied: protobuf<4.0.0,>=3.9.2 in /usr/local/lib/python3.10/dist-packages (from giskard) (3.20.3)\n",
            "Requirement already satisfied: psutil<6.0.0,>=5.9.2 in /usr/local/lib/python3.10/dist-packages (from giskard) (5.9.5)\n",
            "Requirement already satisfied: pydantic<2.0.0,>=1.10.2 in /usr/local/lib/python3.10/dist-packages (from giskard) (1.10.7)\n",
            "Collecting python-daemon<3.0.0,>=2.3.1 (from giskard)\n",
            "  Downloading python_daemon-2.3.2-py3-none-any.whl (34 kB)\n",
            "Collecting requests<3.0.0,>=2.28.1 (from giskard)\n",
            "  Downloading requests-2.31.0-py3-none-any.whl (62 kB)\n",
            "\u001b[2K     \u001b[90m━━━━━━━━━━━━━━━━━━━━━━━━━━━━━━━━━━━━━━━━\u001b[0m \u001b[32m62.6/62.6 kB\u001b[0m \u001b[31m2.5 MB/s\u001b[0m eta \u001b[36m0:00:00\u001b[0m\n",
            "\u001b[?25hCollecting requests-toolbelt<0.10.0,>=0.9.1 (from giskard)\n",
            "  Downloading requests_toolbelt-0.9.1-py2.py3-none-any.whl (54 kB)\n",
            "\u001b[2K     \u001b[90m━━━━━━━━━━━━━━━━━━━━━━━━━━━━━━━━━━━━━━━━\u001b[0m \u001b[32m54.3/54.3 kB\u001b[0m \u001b[31m2.5 MB/s\u001b[0m eta \u001b[36m0:00:00\u001b[0m\n",
            "\u001b[?25hCollecting scikit-learn<1.1.0,>=1.0.0 (from giskard)\n",
            "  Downloading scikit_learn-1.0.2-cp310-cp310-manylinux_2_17_x86_64.manylinux2014_x86_64.whl (26.5 MB)\n",
            "\u001b[2K     \u001b[90m━━━━━━━━━━━━━━━━━━━━━━━━━━━━━━━━━━━━━━━━\u001b[0m \u001b[32m26.5/26.5 MB\u001b[0m \u001b[31m14.8 MB/s\u001b[0m eta \u001b[36m0:00:00\u001b[0m\n",
            "\u001b[?25hCollecting scipy<1.8,>=1.7.2 (from giskard)\n",
            "  Downloading scipy-1.7.3-cp310-cp310-manylinux_2_17_x86_64.manylinux2014_x86_64.whl (39.9 MB)\n",
            "\u001b[2K     \u001b[90m━━━━━━━━━━━━━━━━━━━━━━━━━━━━━━━━━━━━━━━━\u001b[0m \u001b[32m39.9/39.9 MB\u001b[0m \u001b[31m10.1 MB/s\u001b[0m eta \u001b[36m0:00:00\u001b[0m\n",
            "\u001b[?25hRequirement already satisfied: setuptools<68.0.0,>=65.4.1 in /usr/local/lib/python3.10/dist-packages (from giskard) (67.7.2)\n",
            "Collecting shap<0.42.0,>=0.41.0 (from giskard)\n",
            "  Downloading shap-0.41.0-cp310-cp310-manylinux_2_12_x86_64.manylinux2010_x86_64.whl (572 kB)\n",
            "\u001b[2K     \u001b[90m━━━━━━━━━━━━━━━━━━━━━━━━━━━━━━━━━━━━━━\u001b[0m \u001b[32m572.6/572.6 kB\u001b[0m \u001b[31m41.8 MB/s\u001b[0m eta \u001b[36m0:00:00\u001b[0m\n",
            "\u001b[?25hRequirement already satisfied: tenacity<9.0.0,>=8.1.0 in /usr/local/lib/python3.10/dist-packages (from giskard) (8.2.2)\n",
            "Requirement already satisfied: tqdm<5.0.0,>=4.64.1 in /usr/local/lib/python3.10/dist-packages (from giskard) (4.65.0)\n",
            "Collecting zstandard==0.20.0 (from giskard)\n",
            "  Downloading zstandard-0.20.0-cp310-cp310-manylinux_2_17_x86_64.manylinux2014_x86_64.whl (2.6 MB)\n",
            "\u001b[2K     \u001b[90m━━━━━━━━━━━━━━━━━━━━━━━━━━━━━━━━━━━━━━━━\u001b[0m \u001b[32m2.6/2.6 MB\u001b[0m \u001b[31m57.5 MB/s\u001b[0m eta \u001b[36m0:00:00\u001b[0m\n",
            "\u001b[?25hRequirement already satisfied: soupsieve>1.2 in /usr/local/lib/python3.10/dist-packages (from beautifulsoup4<5.0.0,>=4.11.1->giskard) (2.4.1)\n",
            "Requirement already satisfied: attrs>17.1.0 in /usr/local/lib/python3.10/dist-packages (from eli5<0.14.0,>=0.13.0->giskard) (23.1.0)\n",
            "Requirement already satisfied: jinja2>=3.0.0 in /usr/local/lib/python3.10/dist-packages (from eli5<0.14.0,>=0.13.0->giskard) (3.1.2)\n",
            "Requirement already satisfied: six in /usr/local/lib/python3.10/dist-packages (from eli5<0.14.0,>=0.13.0->giskard) (1.16.0)\n",
            "Requirement already satisfied: graphviz in /usr/local/lib/python3.10/dist-packages (from eli5<0.14.0,>=0.13.0->giskard) (0.20.1)\n",
            "Requirement already satisfied: tabulate>=0.7.7 in /usr/local/lib/python3.10/dist-packages (from eli5<0.14.0,>=0.13.0->giskard) (0.8.10)\n",
            "Requirement already satisfied: googleapis-common-protos>=1.5.5 in /usr/local/lib/python3.10/dist-packages (from grpcio-status<=1.51.1,>=1.46.3->giskard) (1.59.0)\n",
            "Requirement already satisfied: zipp>=0.5 in /usr/local/lib/python3.10/dist-packages (from importlib_metadata<5.0.0,>=4.11.4->giskard) (3.15.0)\n",
            "Collecting jedi>=0.16 (from ipython<8.0.0,>=7.0.0->giskard)\n",
            "  Downloading jedi-0.18.2-py2.py3-none-any.whl (1.6 MB)\n",
            "\u001b[2K     \u001b[90m━━━━━━━━━━━━━━━━━━━━━━━━━━━━━━━━━━━━━━━━\u001b[0m \u001b[32m1.6/1.6 MB\u001b[0m \u001b[31m36.8 MB/s\u001b[0m eta \u001b[36m0:00:00\u001b[0m\n",
            "\u001b[?25hRequirement already satisfied: decorator in /usr/local/lib/python3.10/dist-packages (from ipython<8.0.0,>=7.0.0->giskard) (4.4.2)\n",
            "Requirement already satisfied: pickleshare in /usr/local/lib/python3.10/dist-packages (from ipython<8.0.0,>=7.0.0->giskard) (0.7.5)\n",
            "Requirement already satisfied: traitlets>=4.2 in /usr/local/lib/python3.10/dist-packages (from ipython<8.0.0,>=7.0.0->giskard) (5.7.1)\n",
            "Requirement already satisfied: prompt-toolkit!=3.0.0,!=3.0.1,<3.1.0,>=2.0.0 in /usr/local/lib/python3.10/dist-packages (from ipython<8.0.0,>=7.0.0->giskard) (3.0.38)\n",
            "Requirement already satisfied: pygments in /usr/local/lib/python3.10/dist-packages (from ipython<8.0.0,>=7.0.0->giskard) (2.14.0)\n",
            "Requirement already satisfied: backcall in /usr/local/lib/python3.10/dist-packages (from ipython<8.0.0,>=7.0.0->giskard) (0.2.0)\n",
            "Requirement already satisfied: matplotlib-inline in /usr/local/lib/python3.10/dist-packages (from ipython<8.0.0,>=7.0.0->giskard) (0.1.6)\n",
            "Requirement already satisfied: pexpect>4.3 in /usr/local/lib/python3.10/dist-packages (from ipython<8.0.0,>=7.0.0->giskard) (4.8.0)\n",
            "Requirement already satisfied: urllib3 in /usr/local/lib/python3.10/dist-packages (from mixpanel<5.0.0,>=4.10.0->giskard) (1.26.15)\n",
            "Requirement already satisfied: python-dateutil>=2.8.1 in /usr/local/lib/python3.10/dist-packages (from pandas<2.0.0,>=1.3.5->giskard) (2.8.2)\n",
            "Requirement already satisfied: pytz>=2020.1 in /usr/local/lib/python3.10/dist-packages (from pandas<2.0.0,>=1.3.5->giskard) (2022.7.1)\n",
            "Requirement already satisfied: typing-extensions>=4.2.0 in /usr/local/lib/python3.10/dist-packages (from pydantic<2.0.0,>=1.10.2->giskard) (4.5.0)\n",
            "Requirement already satisfied: docutils in /usr/local/lib/python3.10/dist-packages (from python-daemon<3.0.0,>=2.3.1->giskard) (0.16)\n",
            "Requirement already satisfied: charset-normalizer<4,>=2 in /usr/local/lib/python3.10/dist-packages (from requests<3.0.0,>=2.28.1->giskard) (2.0.12)\n",
            "Requirement already satisfied: idna<4,>=2.5 in /usr/local/lib/python3.10/dist-packages (from requests<3.0.0,>=2.28.1->giskard) (3.4)\n",
            "Requirement already satisfied: certifi>=2017.4.17 in /usr/local/lib/python3.10/dist-packages (from requests<3.0.0,>=2.28.1->giskard) (2022.12.7)\n",
            "Requirement already satisfied: joblib>=0.11 in /usr/local/lib/python3.10/dist-packages (from scikit-learn<1.1.0,>=1.0.0->giskard) (1.2.0)\n",
            "Requirement already satisfied: threadpoolctl>=2.0.0 in /usr/local/lib/python3.10/dist-packages (from scikit-learn<1.1.0,>=1.0.0->giskard) (3.1.0)\n",
            "Requirement already satisfied: packaging>20.9 in /usr/local/lib/python3.10/dist-packages (from shap<0.42.0,>=0.41.0->giskard) (23.1)\n",
            "Collecting slicer==0.0.7 (from shap<0.42.0,>=0.41.0->giskard)\n",
            "  Downloading slicer-0.0.7-py3-none-any.whl (14 kB)\n",
            "Requirement already satisfied: numba in /usr/local/lib/python3.10/dist-packages (from shap<0.42.0,>=0.41.0->giskard) (0.56.4)\n",
            "Requirement already satisfied: parso<0.9.0,>=0.8.0 in /usr/local/lib/python3.10/dist-packages (from jedi>=0.16->ipython<8.0.0,>=7.0.0->giskard) (0.8.3)\n",
            "Requirement already satisfied: MarkupSafe>=2.0 in /usr/local/lib/python3.10/dist-packages (from jinja2>=3.0.0->eli5<0.14.0,>=0.13.0->giskard) (2.1.2)\n",
            "Requirement already satisfied: ptyprocess>=0.5 in /usr/local/lib/python3.10/dist-packages (from pexpect>4.3->ipython<8.0.0,>=7.0.0->giskard) (0.7.0)\n",
            "Requirement already satisfied: wcwidth in /usr/local/lib/python3.10/dist-packages (from prompt-toolkit!=3.0.0,!=3.0.1,<3.1.0,>=2.0.0->ipython<8.0.0,>=7.0.0->giskard) (0.2.6)\n",
            "Requirement already satisfied: llvmlite<0.40,>=0.39.0dev0 in /usr/local/lib/python3.10/dist-packages (from numba->shap<0.42.0,>=0.41.0->giskard) (0.39.1)\n",
            "Building wheels for collected packages: eli5\n",
            "  Building wheel for eli5 (setup.py) ... \u001b[?25l\u001b[?25hdone\n",
            "  Created wheel for eli5: filename=eli5-0.13.0-py2.py3-none-any.whl size=107730 sha256=3a6b1568eac45b193df91bdf2c55e69a2d434553ee0f1dc136b81c0f5711640b\n",
            "  Stored in directory: /root/.cache/pip/wheels/b8/58/ef/2cf4c306898c2338d51540e0922c8e0d6028e07007085c0004\n",
            "Successfully built eli5\n",
            "Installing collected packages: lockfile, zstandard, slicer, requests, python-daemon, numpy, jedi, importlib_metadata, grpcio, scipy, requests-toolbelt, mixpanel, scikit-learn, shap, eli5, giskard\n",
            "  Attempting uninstall: requests\n",
            "    Found existing installation: requests 2.27.1\n",
            "    Uninstalling requests-2.27.1:\n",
            "      Successfully uninstalled requests-2.27.1\n",
            "  Attempting uninstall: numpy\n",
            "    Found existing installation: numpy 1.22.4\n",
            "    Uninstalling numpy-1.22.4:\n",
            "      Successfully uninstalled numpy-1.22.4\n",
            "  Attempting uninstall: grpcio\n",
            "    Found existing installation: grpcio 1.54.0\n",
            "    Uninstalling grpcio-1.54.0:\n",
            "      Successfully uninstalled grpcio-1.54.0\n",
            "  Attempting uninstall: scipy\n",
            "    Found existing installation: scipy 1.10.1\n",
            "    Uninstalling scipy-1.10.1:\n",
            "      Successfully uninstalled scipy-1.10.1\n",
            "  Attempting uninstall: scikit-learn\n",
            "    Found existing installation: scikit-learn 1.2.2\n",
            "    Uninstalling scikit-learn-1.2.2:\n",
            "      Successfully uninstalled scikit-learn-1.2.2\n",
            "\u001b[31mERROR: pip's dependency resolver does not currently take into account all the packages that are installed. This behaviour is the source of the following dependency conflicts.\n",
            "arviz 0.15.1 requires scipy>=1.8.0, but you have scipy 1.7.3 which is incompatible.\n",
            "google-colab 1.0.0 requires requests==2.27.1, but you have requests 2.31.0 which is incompatible.\n",
            "tensorflow 2.12.0 requires numpy<1.24,>=1.22, but you have numpy 1.21.6 which is incompatible.\u001b[0m\u001b[31m\n",
            "\u001b[0mSuccessfully installed eli5-0.13.0 giskard-1.9.1 grpcio-1.51.1 importlib_metadata-4.13.0 jedi-0.18.2 lockfile-0.12.2 mixpanel-4.10.0 numpy-1.21.6 python-daemon-2.3.2 requests-2.31.0 requests-toolbelt-0.9.1 scikit-learn-1.0.2 scipy-1.7.3 shap-0.41.0 slicer-0.0.7 zstandard-0.20.0\n"
          ]
        },
        {
          "output_type": "display_data",
          "data": {
            "application/vnd.colab-display-data+json": {
              "pip_warning": {
                "packages": [
                  "numpy"
                ]
              }
            }
          },
          "metadata": {}
        }
      ],
      "source": [
        "!pip install giskard"
      ]
    },
    {
      "cell_type": "markdown",
      "metadata": {
        "id": "-lfQxspt1M8h"
      },
      "source": [
        "## Connect the external worker in daemon mode"
      ]
    },
    {
      "cell_type": "code",
      "execution_count": null,
      "metadata": {
        "colab": {
          "base_uri": "https://localhost:8080/"
        },
        "id": "8sIB0cFC1M8j",
        "outputId": "0ea3f701-9eab-481b-de8e-907e36c568d6"
      },
      "outputs": [
        {
          "output_type": "stream",
          "name": "stdout",
          "text": [
            "2023-05-24 14:05:29,831 pid:670 MainThread giskard.cli  INFO     Starting ML Worker client daemon\n",
            "2023-05-24 14:05:29,831 pid:670 MainThread giskard.cli  INFO     Python: /usr/bin/python3 (3.10.11)\n",
            "2023-05-24 14:05:29,831 pid:670 MainThread giskard.cli  INFO     Giskard Home: /root/giskard-home\n",
            "2023-05-24 14:05:29,832 pid:670 MainThread giskard.cli_utils INFO     Writing logs to /root/giskard-home/run/ml-worker.log\n"
          ]
        }
      ],
      "source": [
        "!giskard worker start -d"
      ]
    },
    {
      "cell_type": "markdown",
      "metadata": {
        "cell_id": "f35c8e8d3fbf4c0f9c01a69673c318a1",
        "deepnote_app_coordinates": {
          "h": 5,
          "w": 12,
          "x": 0,
          "y": 6
        },
        "deepnote_cell_height": 110,
        "deepnote_cell_type": "markdown",
        "id": "mJTqM-W_7xbW",
        "owner_user_id": "41ec0844-b5b7-49c2-9460-710a452f98de",
        "pycharm": {
          "name": "#%% md\n"
        },
        "tags": []
      },
      "source": [
        "# Start by creating an ML model 🚀🚀🚀"
      ]
    },
    {
      "cell_type": "markdown",
      "metadata": {
        "cell_id": "e8d609f32d5243dd917cc3104599b8d8",
        "deepnote_app_coordinates": {
          "h": 5,
          "w": 12,
          "x": 0,
          "y": 12
        },
        "deepnote_cell_height": 230,
        "deepnote_cell_type": "markdown",
        "id": "WNI85koE7xbX",
        "pycharm": {
          "name": "#%% md\n"
        },
        "tags": []
      },
      "source": [
        "Let's create a credit scoring Model using the German Credit scoring dataset [(Link](https://github.com/Giskard-AI/giskard-client/tree/main/sample_data/classification) to download the dataset)"
      ]
    },
    {
      "cell_type": "code",
      "source": [
        "!pip install tqdm"
      ],
      "metadata": {
        "colab": {
          "base_uri": "https://localhost:8080/"
        },
        "id": "j-ek0hiIxzpi",
        "outputId": "4ac755e3-b9ac-40d6-ea3e-5b67d9cf9292"
      },
      "execution_count": null,
      "outputs": [
        {
          "output_type": "stream",
          "name": "stdout",
          "text": [
            "Looking in indexes: https://pypi.org/simple, https://us-python.pkg.dev/colab-wheels/public/simple/\n",
            "Requirement already satisfied: tqdm in /usr/local/lib/python3.10/dist-packages (4.65.0)\n"
          ]
        }
      ]
    },
    {
      "cell_type": "code",
      "execution_count": null,
      "metadata": {
        "cell_id": "1d7f5390-3fb1-47b9-8488-7a55e5b465f9",
        "deepnote_app_coordinates": {
          "h": 5,
          "w": 12,
          "x": 0,
          "y": 18
        },
        "deepnote_cell_height": 315,
        "deepnote_cell_type": "code",
        "deepnote_to_be_reexecuted": false,
        "execution_millis": 798,
        "execution_start": 1652125164139,
        "id": "xEfe0KIo7xbX",
        "pycharm": {
          "name": "#%%\n"
        },
        "source_hash": "e81d6069",
        "tags": []
      },
      "outputs": [],
      "source": [
        "import pandas as pd\n",
        "\n",
        "from sklearn import model_selection\n",
        "from sklearn.preprocessing import StandardScaler\n",
        "from sklearn.preprocessing import OneHotEncoder\n",
        "from sklearn.linear_model import LogisticRegression\n",
        "from sklearn.ensemble import RandomForestClassifier\n",
        "from sklearn.pipeline import Pipeline\n",
        "from sklearn.impute import SimpleImputer\n",
        "from sklearn.compose import ColumnTransformer\n",
        "import matplotlib.pyplot as plt\n",
        "import warnings\n",
        "\n",
        "warnings.filterwarnings(\"ignore\")\n",
        "import random\n",
        "import numpy as np\n",
        "from tqdm import tqdm\n",
        "import copy"
      ]
    },
    {
      "cell_type": "code",
      "execution_count": null,
      "metadata": {
        "pycharm": {
          "name": "#%%\n"
        },
        "id": "JZm4Ipcj1M8o"
      },
      "outputs": [],
      "source": [
        "# To download and read the credit scoring dataset\n",
        "url = 'https://raw.githubusercontent.com/Giskard-AI/examples/main/datasets/credit_scoring_classification_model_dataset/german_credit_prepared.csv'\n",
        "credit = pd.read_csv(url, sep=',',engine=\"python\") #To download go to https://github.com/Giskard-AI/giskard-client/tree/main/sample_data/classification"
      ]
    },
    {
      "cell_type": "code",
      "execution_count": null,
      "metadata": {
        "pycharm": {
          "name": "#%%\n"
        },
        "id": "n5eBpnOs1M8p"
      },
      "outputs": [],
      "source": [
        "# Declare the type of each column in the dataset(example: category, numeric, text)\n",
        "column_types = {'default':\"category\",\n",
        "               'account_check_status':\"category\", \n",
        "               'duration_in_month':\"numeric\",\n",
        "               'credit_history':\"category\",\n",
        "               'purpose':\"category\",\n",
        "               'credit_amount':\"numeric\",\n",
        "               'savings':\"category\",\n",
        "               'present_employment_since':\"category\",\n",
        "               'installment_as_income_perc':\"numeric\",\n",
        "               'sex':\"category\",\n",
        "               'personal_status':\"category\",\n",
        "               'other_debtors':\"category\",\n",
        "               'present_residence_since':\"numeric\",\n",
        "               'property':\"category\",\n",
        "               'age':\"numeric\",\n",
        "               'other_installment_plans':\"category\",\n",
        "               'housing':\"category\",\n",
        "               'credits_this_bank':\"numeric\",\n",
        "               'job':\"category\",\n",
        "               'people_under_maintenance':\"numeric\",\n",
        "               'telephone':\"category\",\n",
        "               'foreign_worker':\"category\"}"
      ]
    },
    {
      "cell_type": "code",
      "execution_count": null,
      "metadata": {
        "pycharm": {
          "name": "#%%\n"
        },
        "id": "3gqARxym1M8s"
      },
      "outputs": [],
      "source": [
        "# feature_types is used to declare the features the model is trained on\n",
        "feature_types = {i:column_types[i] for i in column_types if i!='default'}\n",
        "\n",
        "# Pipeline to fill missing values, transform and scale the numeric columns\n",
        "columns_to_scale = [key for key in feature_types.keys() if feature_types[key]==\"numeric\"]\n",
        "numeric_transformer = Pipeline([('imputer', SimpleImputer(strategy='median')),\n",
        "    ('scaler', StandardScaler())])\n",
        "\n",
        "# Pipeline to fill missing values and one hot encode the categorical values\n",
        "columns_to_encode = [key for key in feature_types.keys() if feature_types[key]==\"category\"]\n",
        "categorical_transformer = Pipeline([\n",
        "        ('imputer', SimpleImputer(strategy='constant', fill_value='missing')),\n",
        "        ('onehot', OneHotEncoder(handle_unknown='ignore',sparse=False)) ])\n",
        "\n",
        "# Perform preprocessing of the columns with the above pipelines\n",
        "preprocessor = ColumnTransformer(\n",
        "    transformers=[\n",
        "        ('num', numeric_transformer, columns_to_scale),\n",
        "      ('cat', categorical_transformer, columns_to_encode)\n",
        "          ]\n",
        ")\n",
        "\n",
        "# Pipeline for the model Logistic Regression\n",
        "clf_logistic_regression = Pipeline(steps=[('preprocessor', preprocessor),\n",
        "                      ('classifier', LogisticRegression(max_iter =1000))])\n",
        "\n",
        "# Split the data into train and test\n"
      ]
    },
    {
      "cell_type": "markdown",
      "source": [
        "# **Defining functions that we will use for both techniques**"
      ],
      "metadata": {
        "id": "8R0PBxYI43pX"
      }
    },
    {
      "cell_type": "code",
      "source": [
        "#finds all examples that differ from predicted ones \n",
        "def check_diff(X_test, y_test, y_predicted):\n",
        "  indices=[]\n",
        "  X_test=X_test.reset_index(drop=True)\n",
        "  y_list=y_test.tolist()\n",
        "  X_test[\"result\"]=y_list\n",
        "  for i, row in enumerate(y_test):\n",
        "      if row!=y_predicted[i]:\n",
        "        indices.append(i)\n",
        "  return X_test[['account_check_status', 'duration_in_month',\n",
        "       'credit_history', 'purpose', 'credit_amount', 'savings',\n",
        "       'present_employment_since', 'installment_as_income_perc', 'sex',\n",
        "       'personal_status', 'other_debtors', 'present_residence_since',\n",
        "       'property', 'age', 'other_installment_plans', 'housing',\n",
        "       'credits_this_bank', 'job', 'people_under_maintenance', 'telephone',\n",
        "       'foreign_worker',\"result\"]][X_test.index.isin(indices)]\n",
        "\n",
        "#by using previous function computes the performance of a data slice \n",
        "#performance of a data slice = Percetage of data slice in the orginal data - Percentage of data slice in the wrongly predicted data\n",
        "def check_worst_performances(clf,X_test, Y_test,bare=5):\n",
        "  print(\"Data slices' performance\")\n",
        "  y_predicted=clf_logistic_regression.predict(X_test)\n",
        "  dataset_to_check=check_diff(X_test,Y_test,y_predicted)\n",
        "  for i in ['account_check_status', 'duration_in_month',\n",
        "        'credit_history', 'purpose', 'credit_amount', 'savings',\n",
        "        'present_employment_since', 'installment_as_income_perc', 'sex',\n",
        "        'personal_status', 'other_debtors', 'present_residence_since',\n",
        "        'property', 'age', 'other_installment_plans', 'housing',\n",
        "        'credits_this_bank', 'job', 'people_under_maintenance', 'telephone',\n",
        "        'foreign_worker']:\n",
        "    list_values=set(dataset_to_check[i].tolist())\n",
        "    for j in list_values:\n",
        "      percent_pred=len(dataset_to_check[dataset_to_check[i]==j])/len(dataset_to_check)\n",
        "      percent_x=len(X_test[X_test[i]==j])/len(X_test)\n",
        "      if 100*(percent_pred-percent_x)>bare:\n",
        "        print(\"column \", i, \"  value  \", j, \"  score \", np.round(100*(percent_pred-percent_x)))\n",
        "\n",
        "#Helps to find insights for data slices given the attribute name. \n",
        "#Prints the mean for the most important numererical attributes (Duration and Credit_amount)\n",
        "#Prints the most common value by categorical feature for every data slice\n",
        "def find_similar_cat(column_name, dataset=credit):\n",
        "  print(\"\\n\")\n",
        "  print(\" Dataframe with mean Duration and Amount\")\n",
        "  print(\"\\n\")\n",
        "  display(dataset.groupby([column_name])['duration_in_month',\n",
        "       'credit_amount'].mean())\n",
        "  print(\"\\n\")\n",
        "  print(\" Dataframe with the most common value for categorical attributes\")\n",
        "  print(\"\\n\")\n",
        "  display(credit.groupby([column_name]).agg(pd.Series.mode))\n"
      ],
      "metadata": {
        "id": "rgFTGLmltt07"
      },
      "execution_count": null,
      "outputs": []
    },
    {
      "cell_type": "code",
      "source": [
        "#Example for Savings\n",
        "find_similar_cat('savings')"
      ],
      "metadata": {
        "colab": {
          "base_uri": "https://localhost:8080/",
          "height": 963
        },
        "id": "yIwDct_1uHLI",
        "outputId": "4f51331f-fe36-4cde-e063-ec17c3b6e608"
      },
      "execution_count": null,
      "outputs": [
        {
          "output_type": "stream",
          "name": "stdout",
          "text": [
            "\n",
            "\n",
            " Dataframe with mean Duration and Amount\n",
            "\n",
            "\n"
          ]
        },
        {
          "output_type": "display_data",
          "data": {
            "text/plain": [
              "                             duration_in_month  credit_amount\n",
              "savings                                                      \n",
              ".. >= 1000 DM                        18.312500    2573.395833\n",
              "... < 100 DM                         20.441128    3187.832504\n",
              "100 <= ... < 500 DM                  22.737864    3384.038835\n",
              "500 <= ... < 1000 DM                 19.031746    2572.111111\n",
              "unknown/ no savings account          22.715847    3906.409836"
            ],
            "text/html": [
              "\n",
              "  <div id=\"df-f7bcad31-c517-4924-abae-c9de80ca57cc\">\n",
              "    <div class=\"colab-df-container\">\n",
              "      <div>\n",
              "<style scoped>\n",
              "    .dataframe tbody tr th:only-of-type {\n",
              "        vertical-align: middle;\n",
              "    }\n",
              "\n",
              "    .dataframe tbody tr th {\n",
              "        vertical-align: top;\n",
              "    }\n",
              "\n",
              "    .dataframe thead th {\n",
              "        text-align: right;\n",
              "    }\n",
              "</style>\n",
              "<table border=\"1\" class=\"dataframe\">\n",
              "  <thead>\n",
              "    <tr style=\"text-align: right;\">\n",
              "      <th></th>\n",
              "      <th>duration_in_month</th>\n",
              "      <th>credit_amount</th>\n",
              "    </tr>\n",
              "    <tr>\n",
              "      <th>savings</th>\n",
              "      <th></th>\n",
              "      <th></th>\n",
              "    </tr>\n",
              "  </thead>\n",
              "  <tbody>\n",
              "    <tr>\n",
              "      <th>.. &gt;= 1000 DM</th>\n",
              "      <td>18.312500</td>\n",
              "      <td>2573.395833</td>\n",
              "    </tr>\n",
              "    <tr>\n",
              "      <th>... &lt; 100 DM</th>\n",
              "      <td>20.441128</td>\n",
              "      <td>3187.832504</td>\n",
              "    </tr>\n",
              "    <tr>\n",
              "      <th>100 &lt;= ... &lt; 500 DM</th>\n",
              "      <td>22.737864</td>\n",
              "      <td>3384.038835</td>\n",
              "    </tr>\n",
              "    <tr>\n",
              "      <th>500 &lt;= ... &lt; 1000 DM</th>\n",
              "      <td>19.031746</td>\n",
              "      <td>2572.111111</td>\n",
              "    </tr>\n",
              "    <tr>\n",
              "      <th>unknown/ no savings account</th>\n",
              "      <td>22.715847</td>\n",
              "      <td>3906.409836</td>\n",
              "    </tr>\n",
              "  </tbody>\n",
              "</table>\n",
              "</div>\n",
              "      <button class=\"colab-df-convert\" onclick=\"convertToInteractive('df-f7bcad31-c517-4924-abae-c9de80ca57cc')\"\n",
              "              title=\"Convert this dataframe to an interactive table.\"\n",
              "              style=\"display:none;\">\n",
              "        \n",
              "  <svg xmlns=\"http://www.w3.org/2000/svg\" height=\"24px\"viewBox=\"0 0 24 24\"\n",
              "       width=\"24px\">\n",
              "    <path d=\"M0 0h24v24H0V0z\" fill=\"none\"/>\n",
              "    <path d=\"M18.56 5.44l.94 2.06.94-2.06 2.06-.94-2.06-.94-.94-2.06-.94 2.06-2.06.94zm-11 1L8.5 8.5l.94-2.06 2.06-.94-2.06-.94L8.5 2.5l-.94 2.06-2.06.94zm10 10l.94 2.06.94-2.06 2.06-.94-2.06-.94-.94-2.06-.94 2.06-2.06.94z\"/><path d=\"M17.41 7.96l-1.37-1.37c-.4-.4-.92-.59-1.43-.59-.52 0-1.04.2-1.43.59L10.3 9.45l-7.72 7.72c-.78.78-.78 2.05 0 2.83L4 21.41c.39.39.9.59 1.41.59.51 0 1.02-.2 1.41-.59l7.78-7.78 2.81-2.81c.8-.78.8-2.07 0-2.86zM5.41 20L4 18.59l7.72-7.72 1.47 1.35L5.41 20z\"/>\n",
              "  </svg>\n",
              "      </button>\n",
              "      \n",
              "  <style>\n",
              "    .colab-df-container {\n",
              "      display:flex;\n",
              "      flex-wrap:wrap;\n",
              "      gap: 12px;\n",
              "    }\n",
              "\n",
              "    .colab-df-convert {\n",
              "      background-color: #E8F0FE;\n",
              "      border: none;\n",
              "      border-radius: 50%;\n",
              "      cursor: pointer;\n",
              "      display: none;\n",
              "      fill: #1967D2;\n",
              "      height: 32px;\n",
              "      padding: 0 0 0 0;\n",
              "      width: 32px;\n",
              "    }\n",
              "\n",
              "    .colab-df-convert:hover {\n",
              "      background-color: #E2EBFA;\n",
              "      box-shadow: 0px 1px 2px rgba(60, 64, 67, 0.3), 0px 1px 3px 1px rgba(60, 64, 67, 0.15);\n",
              "      fill: #174EA6;\n",
              "    }\n",
              "\n",
              "    [theme=dark] .colab-df-convert {\n",
              "      background-color: #3B4455;\n",
              "      fill: #D2E3FC;\n",
              "    }\n",
              "\n",
              "    [theme=dark] .colab-df-convert:hover {\n",
              "      background-color: #434B5C;\n",
              "      box-shadow: 0px 1px 3px 1px rgba(0, 0, 0, 0.15);\n",
              "      filter: drop-shadow(0px 1px 2px rgba(0, 0, 0, 0.3));\n",
              "      fill: #FFFFFF;\n",
              "    }\n",
              "  </style>\n",
              "\n",
              "      <script>\n",
              "        const buttonEl =\n",
              "          document.querySelector('#df-f7bcad31-c517-4924-abae-c9de80ca57cc button.colab-df-convert');\n",
              "        buttonEl.style.display =\n",
              "          google.colab.kernel.accessAllowed ? 'block' : 'none';\n",
              "\n",
              "        async function convertToInteractive(key) {\n",
              "          const element = document.querySelector('#df-f7bcad31-c517-4924-abae-c9de80ca57cc');\n",
              "          const dataTable =\n",
              "            await google.colab.kernel.invokeFunction('convertToInteractive',\n",
              "                                                     [key], {});\n",
              "          if (!dataTable) return;\n",
              "\n",
              "          const docLinkHtml = 'Like what you see? Visit the ' +\n",
              "            '<a target=\"_blank\" href=https://colab.research.google.com/notebooks/data_table.ipynb>data table notebook</a>'\n",
              "            + ' to learn more about interactive tables.';\n",
              "          element.innerHTML = '';\n",
              "          dataTable['output_type'] = 'display_data';\n",
              "          await google.colab.output.renderOutput(dataTable, element);\n",
              "          const docLink = document.createElement('div');\n",
              "          docLink.innerHTML = docLinkHtml;\n",
              "          element.appendChild(docLink);\n",
              "        }\n",
              "      </script>\n",
              "    </div>\n",
              "  </div>\n",
              "  "
            ]
          },
          "metadata": {}
        },
        {
          "output_type": "stream",
          "name": "stdout",
          "text": [
            "\n",
            "\n",
            " Dataframe with the most common value for categorical attributes\n",
            "\n",
            "\n"
          ]
        },
        {
          "output_type": "display_data",
          "data": {
            "text/plain": [
              "                                 default account_check_status  \\\n",
              "savings                                                         \n",
              ".. >= 1000 DM                Not default  no checking account   \n",
              "... < 100 DM                 Not default               < 0 DM   \n",
              "100 <= ... < 500 DM          Not default    0 <= ... < 200 DM   \n",
              "500 <= ... < 1000 DM         Not default  no checking account   \n",
              "unknown/ no savings account  Not default  no checking account   \n",
              "\n",
              "                             duration_in_month  \\\n",
              "savings                                          \n",
              ".. >= 1000 DM                               24   \n",
              "... < 100 DM                                12   \n",
              "100 <= ... < 500 DM                         24   \n",
              "500 <= ... < 1000 DM                        24   \n",
              "unknown/ no savings account                 24   \n",
              "\n",
              "                                                       credit_history  \\\n",
              "savings                                                                 \n",
              ".. >= 1000 DM                existing credits paid back duly till now   \n",
              "... < 100 DM                 existing credits paid back duly till now   \n",
              "100 <= ... < 500 DM          existing credits paid back duly till now   \n",
              "500 <= ... < 1000 DM         existing credits paid back duly till now   \n",
              "unknown/ no savings account  existing credits paid back duly till now   \n",
              "\n",
              "                                                   purpose  \\\n",
              "savings                                                      \n",
              ".. >= 1000 DM                [car (new), radio/television]   \n",
              "... < 100 DM                           domestic appliances   \n",
              "100 <= ... < 500 DM                              car (new)   \n",
              "500 <= ... < 1000 DM                   domestic appliances   \n",
              "unknown/ no savings account            domestic appliances   \n",
              "\n",
              "                            present_employment_since  \\\n",
              "savings                                                \n",
              ".. >= 1000 DM                     1 <= ... < 4 years   \n",
              "... < 100 DM                      1 <= ... < 4 years   \n",
              "100 <= ... < 500 DM               1 <= ... < 4 years   \n",
              "500 <= ... < 1000 DM              1 <= ... < 4 years   \n",
              "unknown/ no savings account            .. >= 7 years   \n",
              "\n",
              "                             installment_as_income_perc   sex personal_status  \\\n",
              "savings                                                                         \n",
              ".. >= 1000 DM                                         4  male        divorced   \n",
              "... < 100 DM                                          4  male          single   \n",
              "100 <= ... < 500 DM                                   4  male          single   \n",
              "500 <= ... < 1000 DM                                  4  male          single   \n",
              "unknown/ no savings account                           4  male          single   \n",
              "\n",
              "                            other_debtors  present_residence_since  \\\n",
              "savings                                                              \n",
              ".. >= 1000 DM                        none                        2   \n",
              "... < 100 DM                         none                        4   \n",
              "100 <= ... < 500 DM                  none                        4   \n",
              "500 <= ... < 1000 DM                 none                        4   \n",
              "unknown/ no savings account          none                        4   \n",
              "\n",
              "                                                                      property  \\\n",
              "savings                                                                          \n",
              ".. >= 1000 DM                                                      real estate   \n",
              "... < 100 DM                 if not A121/A122 : car or other, not in attrib...   \n",
              "100 <= ... < 500 DM          if not A121/A122 : car or other, not in attrib...   \n",
              "500 <= ... < 1000 DM         if not A121/A122 : car or other, not in attrib...   \n",
              "unknown/ no savings account  if not A121/A122 : car or other, not in attrib...   \n",
              "\n",
              "                                      age other_installment_plans housing  \\\n",
              "savings                                                                     \n",
              ".. >= 1000 DM                          27                    none     own   \n",
              "... < 100 DM                           26                    none     own   \n",
              "100 <= ... < 500 DM              [30, 31]                    none     own   \n",
              "500 <= ... < 1000 DM         [23, 35, 36]                    none     own   \n",
              "unknown/ no savings account            36                    none     own   \n",
              "\n",
              "                             credits_this_bank                          job  \\\n",
              "savings                                                                       \n",
              ".. >= 1000 DM                                1  skilled employee / official   \n",
              "... < 100 DM                                 1  skilled employee / official   \n",
              "100 <= ... < 500 DM                          1  skilled employee / official   \n",
              "500 <= ... < 1000 DM                         1  skilled employee / official   \n",
              "unknown/ no savings account                  1  skilled employee / official   \n",
              "\n",
              "                             people_under_maintenance telephone foreign_worker  \n",
              "savings                                                                         \n",
              ".. >= 1000 DM                                       1      none            yes  \n",
              "... < 100 DM                                        1      none            yes  \n",
              "100 <= ... < 500 DM                                 1      none            yes  \n",
              "500 <= ... < 1000 DM                                1      none            yes  \n",
              "unknown/ no savings account                         1      none            yes  "
            ],
            "text/html": [
              "\n",
              "  <div id=\"df-60287c00-73cc-4387-a83f-c5a10ccfb556\">\n",
              "    <div class=\"colab-df-container\">\n",
              "      <div>\n",
              "<style scoped>\n",
              "    .dataframe tbody tr th:only-of-type {\n",
              "        vertical-align: middle;\n",
              "    }\n",
              "\n",
              "    .dataframe tbody tr th {\n",
              "        vertical-align: top;\n",
              "    }\n",
              "\n",
              "    .dataframe thead th {\n",
              "        text-align: right;\n",
              "    }\n",
              "</style>\n",
              "<table border=\"1\" class=\"dataframe\">\n",
              "  <thead>\n",
              "    <tr style=\"text-align: right;\">\n",
              "      <th></th>\n",
              "      <th>default</th>\n",
              "      <th>account_check_status</th>\n",
              "      <th>duration_in_month</th>\n",
              "      <th>credit_history</th>\n",
              "      <th>purpose</th>\n",
              "      <th>present_employment_since</th>\n",
              "      <th>installment_as_income_perc</th>\n",
              "      <th>sex</th>\n",
              "      <th>personal_status</th>\n",
              "      <th>other_debtors</th>\n",
              "      <th>present_residence_since</th>\n",
              "      <th>property</th>\n",
              "      <th>age</th>\n",
              "      <th>other_installment_plans</th>\n",
              "      <th>housing</th>\n",
              "      <th>credits_this_bank</th>\n",
              "      <th>job</th>\n",
              "      <th>people_under_maintenance</th>\n",
              "      <th>telephone</th>\n",
              "      <th>foreign_worker</th>\n",
              "    </tr>\n",
              "    <tr>\n",
              "      <th>savings</th>\n",
              "      <th></th>\n",
              "      <th></th>\n",
              "      <th></th>\n",
              "      <th></th>\n",
              "      <th></th>\n",
              "      <th></th>\n",
              "      <th></th>\n",
              "      <th></th>\n",
              "      <th></th>\n",
              "      <th></th>\n",
              "      <th></th>\n",
              "      <th></th>\n",
              "      <th></th>\n",
              "      <th></th>\n",
              "      <th></th>\n",
              "      <th></th>\n",
              "      <th></th>\n",
              "      <th></th>\n",
              "      <th></th>\n",
              "      <th></th>\n",
              "    </tr>\n",
              "  </thead>\n",
              "  <tbody>\n",
              "    <tr>\n",
              "      <th>.. &gt;= 1000 DM</th>\n",
              "      <td>Not default</td>\n",
              "      <td>no checking account</td>\n",
              "      <td>24</td>\n",
              "      <td>existing credits paid back duly till now</td>\n",
              "      <td>[car (new), radio/television]</td>\n",
              "      <td>1 &lt;= ... &lt; 4 years</td>\n",
              "      <td>4</td>\n",
              "      <td>male</td>\n",
              "      <td>divorced</td>\n",
              "      <td>none</td>\n",
              "      <td>2</td>\n",
              "      <td>real estate</td>\n",
              "      <td>27</td>\n",
              "      <td>none</td>\n",
              "      <td>own</td>\n",
              "      <td>1</td>\n",
              "      <td>skilled employee / official</td>\n",
              "      <td>1</td>\n",
              "      <td>none</td>\n",
              "      <td>yes</td>\n",
              "    </tr>\n",
              "    <tr>\n",
              "      <th>... &lt; 100 DM</th>\n",
              "      <td>Not default</td>\n",
              "      <td>&lt; 0 DM</td>\n",
              "      <td>12</td>\n",
              "      <td>existing credits paid back duly till now</td>\n",
              "      <td>domestic appliances</td>\n",
              "      <td>1 &lt;= ... &lt; 4 years</td>\n",
              "      <td>4</td>\n",
              "      <td>male</td>\n",
              "      <td>single</td>\n",
              "      <td>none</td>\n",
              "      <td>4</td>\n",
              "      <td>if not A121/A122 : car or other, not in attrib...</td>\n",
              "      <td>26</td>\n",
              "      <td>none</td>\n",
              "      <td>own</td>\n",
              "      <td>1</td>\n",
              "      <td>skilled employee / official</td>\n",
              "      <td>1</td>\n",
              "      <td>none</td>\n",
              "      <td>yes</td>\n",
              "    </tr>\n",
              "    <tr>\n",
              "      <th>100 &lt;= ... &lt; 500 DM</th>\n",
              "      <td>Not default</td>\n",
              "      <td>0 &lt;= ... &lt; 200 DM</td>\n",
              "      <td>24</td>\n",
              "      <td>existing credits paid back duly till now</td>\n",
              "      <td>car (new)</td>\n",
              "      <td>1 &lt;= ... &lt; 4 years</td>\n",
              "      <td>4</td>\n",
              "      <td>male</td>\n",
              "      <td>single</td>\n",
              "      <td>none</td>\n",
              "      <td>4</td>\n",
              "      <td>if not A121/A122 : car or other, not in attrib...</td>\n",
              "      <td>[30, 31]</td>\n",
              "      <td>none</td>\n",
              "      <td>own</td>\n",
              "      <td>1</td>\n",
              "      <td>skilled employee / official</td>\n",
              "      <td>1</td>\n",
              "      <td>none</td>\n",
              "      <td>yes</td>\n",
              "    </tr>\n",
              "    <tr>\n",
              "      <th>500 &lt;= ... &lt; 1000 DM</th>\n",
              "      <td>Not default</td>\n",
              "      <td>no checking account</td>\n",
              "      <td>24</td>\n",
              "      <td>existing credits paid back duly till now</td>\n",
              "      <td>domestic appliances</td>\n",
              "      <td>1 &lt;= ... &lt; 4 years</td>\n",
              "      <td>4</td>\n",
              "      <td>male</td>\n",
              "      <td>single</td>\n",
              "      <td>none</td>\n",
              "      <td>4</td>\n",
              "      <td>if not A121/A122 : car or other, not in attrib...</td>\n",
              "      <td>[23, 35, 36]</td>\n",
              "      <td>none</td>\n",
              "      <td>own</td>\n",
              "      <td>1</td>\n",
              "      <td>skilled employee / official</td>\n",
              "      <td>1</td>\n",
              "      <td>none</td>\n",
              "      <td>yes</td>\n",
              "    </tr>\n",
              "    <tr>\n",
              "      <th>unknown/ no savings account</th>\n",
              "      <td>Not default</td>\n",
              "      <td>no checking account</td>\n",
              "      <td>24</td>\n",
              "      <td>existing credits paid back duly till now</td>\n",
              "      <td>domestic appliances</td>\n",
              "      <td>.. &gt;= 7 years</td>\n",
              "      <td>4</td>\n",
              "      <td>male</td>\n",
              "      <td>single</td>\n",
              "      <td>none</td>\n",
              "      <td>4</td>\n",
              "      <td>if not A121/A122 : car or other, not in attrib...</td>\n",
              "      <td>36</td>\n",
              "      <td>none</td>\n",
              "      <td>own</td>\n",
              "      <td>1</td>\n",
              "      <td>skilled employee / official</td>\n",
              "      <td>1</td>\n",
              "      <td>none</td>\n",
              "      <td>yes</td>\n",
              "    </tr>\n",
              "  </tbody>\n",
              "</table>\n",
              "</div>\n",
              "      <button class=\"colab-df-convert\" onclick=\"convertToInteractive('df-60287c00-73cc-4387-a83f-c5a10ccfb556')\"\n",
              "              title=\"Convert this dataframe to an interactive table.\"\n",
              "              style=\"display:none;\">\n",
              "        \n",
              "  <svg xmlns=\"http://www.w3.org/2000/svg\" height=\"24px\"viewBox=\"0 0 24 24\"\n",
              "       width=\"24px\">\n",
              "    <path d=\"M0 0h24v24H0V0z\" fill=\"none\"/>\n",
              "    <path d=\"M18.56 5.44l.94 2.06.94-2.06 2.06-.94-2.06-.94-.94-2.06-.94 2.06-2.06.94zm-11 1L8.5 8.5l.94-2.06 2.06-.94-2.06-.94L8.5 2.5l-.94 2.06-2.06.94zm10 10l.94 2.06.94-2.06 2.06-.94-2.06-.94-.94-2.06-.94 2.06-2.06.94z\"/><path d=\"M17.41 7.96l-1.37-1.37c-.4-.4-.92-.59-1.43-.59-.52 0-1.04.2-1.43.59L10.3 9.45l-7.72 7.72c-.78.78-.78 2.05 0 2.83L4 21.41c.39.39.9.59 1.41.59.51 0 1.02-.2 1.41-.59l7.78-7.78 2.81-2.81c.8-.78.8-2.07 0-2.86zM5.41 20L4 18.59l7.72-7.72 1.47 1.35L5.41 20z\"/>\n",
              "  </svg>\n",
              "      </button>\n",
              "      \n",
              "  <style>\n",
              "    .colab-df-container {\n",
              "      display:flex;\n",
              "      flex-wrap:wrap;\n",
              "      gap: 12px;\n",
              "    }\n",
              "\n",
              "    .colab-df-convert {\n",
              "      background-color: #E8F0FE;\n",
              "      border: none;\n",
              "      border-radius: 50%;\n",
              "      cursor: pointer;\n",
              "      display: none;\n",
              "      fill: #1967D2;\n",
              "      height: 32px;\n",
              "      padding: 0 0 0 0;\n",
              "      width: 32px;\n",
              "    }\n",
              "\n",
              "    .colab-df-convert:hover {\n",
              "      background-color: #E2EBFA;\n",
              "      box-shadow: 0px 1px 2px rgba(60, 64, 67, 0.3), 0px 1px 3px 1px rgba(60, 64, 67, 0.15);\n",
              "      fill: #174EA6;\n",
              "    }\n",
              "\n",
              "    [theme=dark] .colab-df-convert {\n",
              "      background-color: #3B4455;\n",
              "      fill: #D2E3FC;\n",
              "    }\n",
              "\n",
              "    [theme=dark] .colab-df-convert:hover {\n",
              "      background-color: #434B5C;\n",
              "      box-shadow: 0px 1px 3px 1px rgba(0, 0, 0, 0.15);\n",
              "      filter: drop-shadow(0px 1px 2px rgba(0, 0, 0, 0.3));\n",
              "      fill: #FFFFFF;\n",
              "    }\n",
              "  </style>\n",
              "\n",
              "      <script>\n",
              "        const buttonEl =\n",
              "          document.querySelector('#df-60287c00-73cc-4387-a83f-c5a10ccfb556 button.colab-df-convert');\n",
              "        buttonEl.style.display =\n",
              "          google.colab.kernel.accessAllowed ? 'block' : 'none';\n",
              "\n",
              "        async function convertToInteractive(key) {\n",
              "          const element = document.querySelector('#df-60287c00-73cc-4387-a83f-c5a10ccfb556');\n",
              "          const dataTable =\n",
              "            await google.colab.kernel.invokeFunction('convertToInteractive',\n",
              "                                                     [key], {});\n",
              "          if (!dataTable) return;\n",
              "\n",
              "          const docLinkHtml = 'Like what you see? Visit the ' +\n",
              "            '<a target=\"_blank\" href=https://colab.research.google.com/notebooks/data_table.ipynb>data table notebook</a>'\n",
              "            + ' to learn more about interactive tables.';\n",
              "          element.innerHTML = '';\n",
              "          dataTable['output_type'] = 'display_data';\n",
              "          await google.colab.output.renderOutput(dataTable, element);\n",
              "          const docLink = document.createElement('div');\n",
              "          docLink.innerHTML = docLinkHtml;\n",
              "          element.appendChild(docLink);\n",
              "        }\n",
              "      </script>\n",
              "    </div>\n",
              "  </div>\n",
              "  "
            ]
          },
          "metadata": {}
        }
      ]
    },
    {
      "cell_type": "code",
      "source": [
        "#Here we can check what data slice has the worst performance (the bigger the value the worse is its performance)\n",
        "X_train, X_test, Y_train, Y_test = model_selection.train_test_split(credit.drop(columns=[\"default\"]), credit[\"default\"], test_size=0.20,random_state = 30, stratify = credit[\"default\"])\n",
        "clf_logistic_regression = Pipeline(steps=[('preprocessor', preprocessor),\n",
        "                    ('classifier', LogisticRegression(max_iter =1000))])\n",
        "clf_logistic_regression.fit(X_train, Y_train)\n",
        "print(\"The original score is  \",clf_logistic_regression.score(X_test, Y_test))\n",
        "print(\"\\n\")\n",
        "check_worst_performances(clf_logistic_regression,X_train,Y_train.to_numpy())"
      ],
      "metadata": {
        "colab": {
          "base_uri": "https://localhost:8080/"
        },
        "id": "hcNuw2HP2phG",
        "outputId": "87a76584-6b69-461f-a700-c72f751d5549"
      },
      "execution_count": null,
      "outputs": [
        {
          "output_type": "stream",
          "name": "stdout",
          "text": [
            "The original score is   0.755\n",
            "\n",
            "\n",
            "Data slices' performance\n",
            "column  account_check_status   value   < 0 DM   score  11.0\n",
            "column  account_check_status   value   0 <= ... < 200 DM   score  6.0\n",
            "column  duration_in_month   value   18   score  6.0\n",
            "column  credit_history   value   existing credits paid back duly till now   score  7.0\n",
            "column  savings   value   ... < 100 DM   score  8.0\n",
            "column  present_employment_since   value   1 <= ... < 4 years   score  5.0\n",
            "column  installment_as_income_perc   value   2   score  7.0\n",
            "column  age   value   22   score  6.0\n",
            "column  housing   value   rent   score  5.0\n",
            "column  credits_this_bank   value   1   score  6.0\n"
          ]
        }
      ]
    },
    {
      "cell_type": "markdown",
      "source": [
        "# **Technique 1: Improve a data slice with the data from another data slice**\n",
        "The principle of this data augmentation technique is as follows: Let's assume that we have identified a data slice (Slice X) that exhibits poor performance.\n",
        "\n",
        "Using the *find_similar_cat()* function, we can determine the data slice (Slice Y) that is most similar to Slice X.\n",
        "\n",
        "Next, we randomly duplicate data points in Slice Y and replace their numerical features with the mean values from Slice X.\n",
        "\n",
        "Finally, we inject these augmented data points into Slice X."
      ],
      "metadata": {
        "id": "byWRgdgl5R7f"
      }
    },
    {
      "cell_type": "code",
      "source": [
        "#function for technique 1 when we are considering a unique Slice Y\n",
        "#It is important to indicate that we duplicate values only from the original dataset and NOT from the augmented one to avoid multiplying datapoints too much\n",
        "def data_inject_0(column_name, value_to_inject, value_to_find, number, mean_duration, mean_amount, X, Y, X_to_aug, Y_to_aug):\n",
        "  X_train=X\n",
        "  Y_train=Y\n",
        "  randomlist = random.sample(range(0, len(X_train[X_train[column_name]==value_to_find])),number)\n",
        "  X_to_inject=X_train[X_train[column_name]==value_to_find].reset_index(drop=True)\n",
        "  X_to_inject=X_to_inject.loc[X_to_inject.index[randomlist]]\n",
        "  X_to_inject[column_name]=value_to_inject\n",
        "  X_to_inject[\"duration_in_month\"]=mean_duration\n",
        "  X_to_inject[\"credit_amount\"]=mean_amount\n",
        "  Y_to_inject=pd.DataFrame(X_to_inject['default']).reset_index(drop=True)\n",
        "  X_to_aug=pd.concat([X_to_aug, X_to_inject], axis=0,ignore_index=True).reset_index(drop=True)\n",
        "  Y_to_aug=pd.concat([Y_to_aug, Y_to_inject], axis=0,ignore_index=True).reset_index(drop=True)\n",
        "  Y_to_aug=pd.DataFrame(Y_to_aug).reset_index(drop=True)\n",
        "  return X_to_aug, Y_to_aug\n",
        "\n",
        "#function for technique 1 when we are considering multiple Slices Y\n",
        "def data_inject_1(column_name, value_to_inject, values_to_find, number, mean_duration, mean_amount, X, Y, X_to_aug, Y_to_aug):\n",
        "  X_train=X\n",
        "  Y_train=Y\n",
        "  randomlist = random.sample(range(0, len(X_train[X_train[column_name].isin(values_to_find)])),number)\n",
        "  X_to_inject=X_train[X_train[column_name].isin(values_to_find)].reset_index(drop=True)\n",
        "  X_to_inject=X_to_inject.loc[X_to_inject.index[randomlist]]\n",
        "  X_to_inject[column_name]=value_to_inject\n",
        "  X_to_inject[\"duration_in_month\"]=mean_duration\n",
        "  X_to_inject[\"credit_amount\"]=mean_amount\n",
        "  Y_to_inject=pd.DataFrame(X_to_inject['default']).reset_index(drop=True)\n",
        "  X_to_aug=pd.concat([X_to_aug, X_to_inject], axis=0,ignore_index=True).reset_index(drop=True)\n",
        "  Y_to_aug=pd.concat([Y_to_aug, Y_to_inject], axis=0,ignore_index=True).reset_index(drop=True)\n",
        "  Y_to_aug=pd.DataFrame(Y_to_aug).reset_index(drop=True)\n",
        "  return X_to_aug, Y_to_aug"
      ],
      "metadata": {
        "id": "3zb9B0cYu7ga"
      },
      "execution_count": null,
      "outputs": []
    },
    {
      "cell_type": "markdown",
      "source": [
        "## **Performing technique 1 :)**"
      ],
      "metadata": {
        "id": "6Zqfihb7-HHQ"
      }
    },
    {
      "cell_type": "code",
      "source": [
        "Y=credit['default']\n",
        "X=credit\n",
        "random.seed(41)\n",
        "\n",
        "X_train, X_test, Y_train, Y_test = model_selection.train_test_split(X, Y, test_size=0.20,random_state = 30, stratify = Y)\n",
        "Y_train=pd.DataFrame(Y_train).reset_index(drop=True)\n",
        "\n",
        "X_train_new,Y_train_new=data_inject_0(\"savings\",\"... < 100 DM\",\"unknown/ no savings account\",140,20.441128,3187.832504,X_train,Y_train,X_train,Y_train)\n",
        "X_train_new,Y_train_new=data_inject_0(\"credit_history\",\"all credits at this bank paid back duly\",\"no credits taken/ all credits paid back duly\",30,22.693878,3344.877551,X_train,Y_train,X_train_new,Y_train_new)\n",
        "X_train_new,Y_train_new=data_inject_0('account_check_status',\"< 0 DM\",\"no checking account\",100,21.339416,3175.218978,X_train,Y_train,X_train_new,Y_train_new)\n",
        "X_train_new,Y_train_new=data_inject_1(\"duration_in_month\",18,[15,16,20,21],45,18,2718.33628,X_train,Y_train,X_train_new,Y_train_new)\n",
        "X_train_new,Y_train_new=data_inject_0('present_employment_since',\"... < 1 year\",\"unemployed\",45,19.401163,2952.453488,X_train,Y_train,X_train_new,Y_train_new)\n",
        "clf_logistic_regression = Pipeline(steps=[('preprocessor', preprocessor),\n",
        "                    ('classifier', LogisticRegression(max_iter =1000))])\n",
        "clf_logistic_regression.fit(X_train_new, Y_train_new)\n",
        "print(\"the final score is \",clf_logistic_regression.score(X_test, Y_test))\n"
      ],
      "metadata": {
        "colab": {
          "base_uri": "https://localhost:8080/"
        },
        "id": "_ds7Jc1EUCpF",
        "outputId": "c172f5f3-086b-4a0f-8cb1-a33a15307f88"
      },
      "execution_count": null,
      "outputs": [
        {
          "output_type": "stream",
          "name": "stdout",
          "text": [
            "the final score is  0.79\n"
          ]
        }
      ]
    },
    {
      "cell_type": "markdown",
      "source": [
        "# **Techique 2: Use \"corrected\" outliers from underperformed data slice**\n",
        "The principle of this data augmentation technique is as follows: Suppose we have identified a subset of data (Slice X) that exhibits poor performance.\n",
        "\n",
        "The algorithm should perform well for the most common data points, even in the case of poor performance within Slice X. This means we need to consider outliers.\n",
        "\n",
        "In our case, we define an outlier as a data point where more than half of its categorical features differ from the most common values.\n",
        "\n",
        "Once an outlier is identified, we create a duplicate of it and randomly modify one of its \"outlying\" features to match the most common value. This makes it slightly less of an outlier.\n",
        "\n",
        "Finally, we introduce these augmented data points into Slice X."
      ],
      "metadata": {
        "id": "dme7o65EQ8Mq"
      }
    },
    {
      "cell_type": "code",
      "source": [
        "#function for technique 2\n",
        "def corrected_outliers(column_name, value, dataset, columns_cat):\n",
        "  columns=copy.deepcopy(columns_cat)\n",
        "  account_check=dataset.groupby([column_name]).agg(pd.Series.mode)\n",
        "  account_check=account_check[account_check.index==value]\n",
        "  account_check=account_check.reset_index(drop=True)\n",
        "  columns.remove(column_name)\n",
        "  account_check=account_check[columns]\n",
        "  credit_new=dataset[dataset[column_name]==value]\n",
        "  new_dataset=pd.DataFrame(columns=dataset.columns)\n",
        "\n",
        "  for i,r in credit_new.iterrows():\n",
        "\n",
        "    #comparing the row with \"the most common row\"\n",
        "    res=r[columns].eq(account_check)\n",
        "    res=res.values.flatten().tolist()\n",
        "    res=[x for x in res[1:]]\n",
        "\n",
        "    #counting the number of outlying features \n",
        "    if res.count(False)>len(res)/2:\n",
        "      index=[]\n",
        "      for j in range(len(res)):\n",
        "        if res[j] == False:\n",
        "          index.append(j)\n",
        "      column= random.choice(index)\n",
        "      r[account_check.columns[column]]=account_check[account_check.columns[column]].values[0]\n",
        "      new_dataset=pd.concat([r,new_dataset],axis=1, ignore_index=True)\n",
        "\n",
        "  new_dataset=new_dataset.transpose()\n",
        "  new_dataset=new_dataset.dropna(how='all')\n",
        "  return new_dataset\n",
        "\n",
        "#performing data injection using the function for the technique 2\n",
        "def data_injection(X, Y, dataset_to_inject, X_to_aug,Y_to_aug):\n",
        "  X_to_inject=dataset_to_inject.reset_index(drop=True)\n",
        "  Y_to_inject=pd.DataFrame(dataset_to_inject['default']).reset_index(drop=True)\n",
        "\n",
        "  X_to_aug=pd.concat([X_to_aug, X_to_inject], axis=0,ignore_index=True).reset_index(drop=True)\n",
        "  Y_to_aug=pd.concat([Y_to_aug, Y_to_inject], axis=0,ignore_index=True).reset_index(drop=True)\n",
        "  Y_to_aug=pd.DataFrame(Y_to_aug).reset_index(drop=True)\n",
        "  return X_to_aug,Y_to_aug\n"
      ],
      "metadata": {
        "id": "sd6aeV5rQ--c"
      },
      "execution_count": null,
      "outputs": []
    },
    {
      "cell_type": "code",
      "source": [
        "Y=credit['default']\n",
        "X=credit\n",
        "random.seed(41)\n",
        "columns=['account_check_status','credit_history', 'purpose',\n",
        "        'savings', 'present_employment_since', 'sex', 'personal_status',\n",
        "        'other_debtors', 'property', 'other_installment_plans', 'housing',\n",
        "        'job', 'telephone', 'foreign_worker']\n",
        "\n",
        "X_train, X_test, Y_train, Y_test = model_selection.train_test_split(X, Y, test_size=0.20,random_state = 30, stratify = Y)\n",
        "Y_train=pd.DataFrame(Y_train).reset_index(drop=True)\n",
        "X_train_new, Y_train_new=data_injection(X_train,Y_train,corrected_outliers(column_name='account_check_status',value=\"< 0 DM\",dataset=credit,columns_cat=columns),X_to_aug=X_train,Y_to_aug=Y_train)\n",
        "X_train_new, Y_train_new=data_injection(X_train,Y_train,corrected_outliers(column_name='savings',value=\"... < 100 DM\",dataset=credit,columns_cat=columns),X_to_aug=X_train_new, Y_to_aug=Y_train_new)\n",
        "X_train_new, Y_train_new=data_injection(X_train,Y_train,corrected_outliers(column_name=\"credit_history\",value=\"no credits taken/ all credits paid back duly\",dataset=credit,columns_cat=columns),X_to_aug=X_train_new, Y_to_aug=Y_train_new)\n",
        "X_train_new, Y_train_new=data_injection(X_train,Y_train,corrected_outliers(column_name=\"personal_status\",value=\"divorced\",dataset=credit,columns_cat=columns),X_to_aug=X_train_new, Y_to_aug=Y_train_new)\n",
        "Y_train_new=Y_train_new.to_numpy()\n",
        "X_train_new=X_train_new.drop(columns=[\"default\"])\n",
        "clf_logistic_regression.fit(X_train_new, Y_train_new)\n",
        "print(\"the final score is \",clf_logistic_regression.score(X_test, Y_test))"
      ],
      "metadata": {
        "id": "JVCq4hRqRAI4",
        "colab": {
          "base_uri": "https://localhost:8080/"
        },
        "outputId": "58cad391-c20c-44bf-d70c-0bfeda4efcbd"
      },
      "execution_count": null,
      "outputs": [
        {
          "output_type": "stream",
          "name": "stdout",
          "text": [
            "the final score is  0.805\n"
          ]
        }
      ]
    },
    {
      "cell_type": "markdown",
      "source": [
        "# **Conclusion**"
      ],
      "metadata": {
        "id": "SCu_sHXU5usp"
      }
    },
    {
      "cell_type": "markdown",
      "source": [
        "Conclusion:\n",
        "I applied both techniques to a limited number of data slices (4-5) and observed a 4-5% improvement in the classification score. However, this improvement is just the beginning, as there are more data slices with poor performance.\n",
        "\n",
        "Based on my observations, it appears that technique 2 yields better performance. However, technique 1 has the potential to leverage \"field knowledge\" more effectively. It could be interesting to explore the possibility of combining both approaches to achieve even better performance."
      ],
      "metadata": {
        "id": "oEBHz2m2CDxD"
      }
    }
  ],
  "metadata": {
    "colab": {
      "provenance": []
    },
    "deepnote": {
      "is_reactive": false
    },
    "deepnote_app_layout": "article",
    "deepnote_execution_queue": [],
    "deepnote_notebook_id": "6e7ea85d-f19e-4d05-90a4-44b7668fd037",
    "kernelspec": {
      "display_name": "Python 3",
      "language": "python",
      "name": "python3"
    },
    "language_info": {
      "codemirror_mode": {
        "name": "ipython",
        "version": 3
      },
      "file_extension": ".py",
      "mimetype": "text/x-python",
      "name": "python",
      "nbconvert_exporter": "python",
      "pygments_lexer": "ipython3",
      "version": "3.7.15"
    }
  },
  "nbformat": 4,
  "nbformat_minor": 0
}