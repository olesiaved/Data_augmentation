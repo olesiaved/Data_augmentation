{
  "cells": [
    {
      "cell_type": "markdown",
      "metadata": {
        "id": "-pvKxJjsNSoE",
        "pycharm": {
          "name": "#%% md\n"
        }
      },
      "source": [
        "![giskard_logo.png](https://raw.githubusercontent.com/Giskard-AI/giskard/main/readme/Logo_full_darkgreen.png)"
      ]
    },
    {
      "cell_type": "markdown",
      "metadata": {
        "cell_id": "a9b17467105f4031a3f9eae70ef4138f",
        "deepnote_cell_height": 134,
        "deepnote_cell_type": "markdown",
        "id": "PKcOi3D37xbW",
        "pycharm": {
          "name": "#%% md\n"
        },
        "tags": []
      },
      "source": [
        "# About Giskard\n",
        "\n",
        "Open-Source CI/CD platform for ML teams. Deliver ML products, better & faster. \n",
        "\n",
        "*   Collaborate faster with feedback from business stakeholders.\n",
        "*   Deploy automated tests to eliminate regressions, errors & biases.\n",
        "\n",
        "🏡 [Website](https://giskard.ai/)\n",
        "\n",
        "📗 [Documentation](https://docs.giskard.ai/)"
      ]
    },
    {
      "cell_type": "markdown",
      "metadata": {
        "id": "UQilKQb01M8Z"
      },
      "source": [
        "## Installing `giskard`"
      ]
    },
    {
      "cell_type": "code",
      "execution_count": 176,
      "metadata": {
        "colab": {
          "base_uri": "https://localhost:8080/"
        },
        "id": "69BDV-5T1M8b",
        "outputId": "8c805f02-953a-4800-9323-eeea7baecd98"
      },
      "outputs": [
        {
          "output_type": "stream",
          "name": "stdout",
          "text": [
            "Looking in indexes: https://pypi.org/simple, https://us-python.pkg.dev/colab-wheels/public/simple/\n",
            "Requirement already satisfied: giskard in /usr/local/lib/python3.10/dist-packages (1.9.1)\n",
            "Requirement already satisfied: beautifulsoup4<5.0.0,>=4.11.1 in /usr/local/lib/python3.10/dist-packages (from giskard) (4.11.2)\n",
            "Requirement already satisfied: click<9.0.0,>=8.1.3 in /usr/local/lib/python3.10/dist-packages (from giskard) (8.1.3)\n",
            "Requirement already satisfied: cloudpickle<3.0.0,>=2.1.0 in /usr/local/lib/python3.10/dist-packages (from giskard) (2.2.1)\n",
            "Requirement already satisfied: eli5<0.14.0,>=0.13.0 in /usr/local/lib/python3.10/dist-packages (from giskard) (0.13.0)\n",
            "Requirement already satisfied: grpcio<=1.51.1,>=1.46.3 in /usr/local/lib/python3.10/dist-packages (from giskard) (1.51.1)\n",
            "Requirement already satisfied: grpcio-status<=1.51.1,>=1.46.3 in /usr/local/lib/python3.10/dist-packages (from giskard) (1.48.2)\n",
            "Requirement already satisfied: importlib_metadata<5.0.0,>=4.11.4 in /usr/local/lib/python3.10/dist-packages (from giskard) (4.13.0)\n",
            "Requirement already satisfied: ipython<8.0.0,>=7.0.0 in /usr/local/lib/python3.10/dist-packages (from giskard) (7.34.0)\n",
            "Requirement already satisfied: lockfile<0.13.0,>=0.12.2 in /usr/local/lib/python3.10/dist-packages (from giskard) (0.12.2)\n",
            "Requirement already satisfied: mixpanel<5.0.0,>=4.10.0 in /usr/local/lib/python3.10/dist-packages (from giskard) (4.10.0)\n",
            "Requirement already satisfied: numpy<1.22.0,>=1.21.6 in /usr/local/lib/python3.10/dist-packages (from giskard) (1.21.6)\n",
            "Requirement already satisfied: pandas<2.0.0,>=1.3.5 in /usr/local/lib/python3.10/dist-packages (from giskard) (1.5.3)\n",
            "Requirement already satisfied: protobuf<4.0.0,>=3.9.2 in /usr/local/lib/python3.10/dist-packages (from giskard) (3.20.3)\n",
            "Requirement already satisfied: psutil<6.0.0,>=5.9.2 in /usr/local/lib/python3.10/dist-packages (from giskard) (5.9.5)\n",
            "Requirement already satisfied: pydantic<2.0.0,>=1.10.2 in /usr/local/lib/python3.10/dist-packages (from giskard) (1.10.7)\n",
            "Requirement already satisfied: python-daemon<3.0.0,>=2.3.1 in /usr/local/lib/python3.10/dist-packages (from giskard) (2.3.2)\n",
            "Requirement already satisfied: requests<3.0.0,>=2.28.1 in /usr/local/lib/python3.10/dist-packages (from giskard) (2.30.0)\n",
            "Requirement already satisfied: requests-toolbelt<0.10.0,>=0.9.1 in /usr/local/lib/python3.10/dist-packages (from giskard) (0.9.1)\n",
            "Requirement already satisfied: scikit-learn<1.1.0,>=1.0.0 in /usr/local/lib/python3.10/dist-packages (from giskard) (1.0.2)\n",
            "Requirement already satisfied: scipy<1.8,>=1.7.2 in /usr/local/lib/python3.10/dist-packages (from giskard) (1.7.3)\n",
            "Requirement already satisfied: setuptools<68.0.0,>=65.4.1 in /usr/local/lib/python3.10/dist-packages (from giskard) (67.7.2)\n",
            "Requirement already satisfied: shap<0.42.0,>=0.41.0 in /usr/local/lib/python3.10/dist-packages (from giskard) (0.41.0)\n",
            "Requirement already satisfied: tenacity<9.0.0,>=8.1.0 in /usr/local/lib/python3.10/dist-packages (from giskard) (8.2.2)\n",
            "Requirement already satisfied: tqdm<5.0.0,>=4.64.1 in /usr/local/lib/python3.10/dist-packages (from giskard) (4.65.0)\n",
            "Requirement already satisfied: zstandard==0.20.0 in /usr/local/lib/python3.10/dist-packages (from giskard) (0.20.0)\n",
            "Requirement already satisfied: soupsieve>1.2 in /usr/local/lib/python3.10/dist-packages (from beautifulsoup4<5.0.0,>=4.11.1->giskard) (2.4.1)\n",
            "Requirement already satisfied: attrs>17.1.0 in /usr/local/lib/python3.10/dist-packages (from eli5<0.14.0,>=0.13.0->giskard) (23.1.0)\n",
            "Requirement already satisfied: jinja2>=3.0.0 in /usr/local/lib/python3.10/dist-packages (from eli5<0.14.0,>=0.13.0->giskard) (3.1.2)\n",
            "Requirement already satisfied: six in /usr/local/lib/python3.10/dist-packages (from eli5<0.14.0,>=0.13.0->giskard) (1.16.0)\n",
            "Requirement already satisfied: graphviz in /usr/local/lib/python3.10/dist-packages (from eli5<0.14.0,>=0.13.0->giskard) (0.20.1)\n",
            "Requirement already satisfied: tabulate>=0.7.7 in /usr/local/lib/python3.10/dist-packages (from eli5<0.14.0,>=0.13.0->giskard) (0.8.10)\n",
            "Requirement already satisfied: googleapis-common-protos>=1.5.5 in /usr/local/lib/python3.10/dist-packages (from grpcio-status<=1.51.1,>=1.46.3->giskard) (1.59.0)\n",
            "Requirement already satisfied: zipp>=0.5 in /usr/local/lib/python3.10/dist-packages (from importlib_metadata<5.0.0,>=4.11.4->giskard) (3.15.0)\n",
            "Requirement already satisfied: jedi>=0.16 in /usr/local/lib/python3.10/dist-packages (from ipython<8.0.0,>=7.0.0->giskard) (0.18.2)\n",
            "Requirement already satisfied: decorator in /usr/local/lib/python3.10/dist-packages (from ipython<8.0.0,>=7.0.0->giskard) (4.4.2)\n",
            "Requirement already satisfied: pickleshare in /usr/local/lib/python3.10/dist-packages (from ipython<8.0.0,>=7.0.0->giskard) (0.7.5)\n",
            "Requirement already satisfied: traitlets>=4.2 in /usr/local/lib/python3.10/dist-packages (from ipython<8.0.0,>=7.0.0->giskard) (5.7.1)\n",
            "Requirement already satisfied: prompt-toolkit!=3.0.0,!=3.0.1,<3.1.0,>=2.0.0 in /usr/local/lib/python3.10/dist-packages (from ipython<8.0.0,>=7.0.0->giskard) (3.0.38)\n",
            "Requirement already satisfied: pygments in /usr/local/lib/python3.10/dist-packages (from ipython<8.0.0,>=7.0.0->giskard) (2.14.0)\n",
            "Requirement already satisfied: backcall in /usr/local/lib/python3.10/dist-packages (from ipython<8.0.0,>=7.0.0->giskard) (0.2.0)\n",
            "Requirement already satisfied: matplotlib-inline in /usr/local/lib/python3.10/dist-packages (from ipython<8.0.0,>=7.0.0->giskard) (0.1.6)\n",
            "Requirement already satisfied: pexpect>4.3 in /usr/local/lib/python3.10/dist-packages (from ipython<8.0.0,>=7.0.0->giskard) (4.8.0)\n",
            "Requirement already satisfied: urllib3 in /usr/local/lib/python3.10/dist-packages (from mixpanel<5.0.0,>=4.10.0->giskard) (1.26.15)\n",
            "Requirement already satisfied: python-dateutil>=2.8.1 in /usr/local/lib/python3.10/dist-packages (from pandas<2.0.0,>=1.3.5->giskard) (2.8.2)\n",
            "Requirement already satisfied: pytz>=2020.1 in /usr/local/lib/python3.10/dist-packages (from pandas<2.0.0,>=1.3.5->giskard) (2022.7.1)\n",
            "Requirement already satisfied: typing-extensions>=4.2.0 in /usr/local/lib/python3.10/dist-packages (from pydantic<2.0.0,>=1.10.2->giskard) (4.5.0)\n",
            "Requirement already satisfied: docutils in /usr/local/lib/python3.10/dist-packages (from python-daemon<3.0.0,>=2.3.1->giskard) (0.16)\n",
            "Requirement already satisfied: charset-normalizer<4,>=2 in /usr/local/lib/python3.10/dist-packages (from requests<3.0.0,>=2.28.1->giskard) (2.0.12)\n",
            "Requirement already satisfied: idna<4,>=2.5 in /usr/local/lib/python3.10/dist-packages (from requests<3.0.0,>=2.28.1->giskard) (3.4)\n",
            "Requirement already satisfied: certifi>=2017.4.17 in /usr/local/lib/python3.10/dist-packages (from requests<3.0.0,>=2.28.1->giskard) (2022.12.7)\n",
            "Requirement already satisfied: joblib>=0.11 in /usr/local/lib/python3.10/dist-packages (from scikit-learn<1.1.0,>=1.0.0->giskard) (1.2.0)\n",
            "Requirement already satisfied: threadpoolctl>=2.0.0 in /usr/local/lib/python3.10/dist-packages (from scikit-learn<1.1.0,>=1.0.0->giskard) (3.1.0)\n",
            "Requirement already satisfied: packaging>20.9 in /usr/local/lib/python3.10/dist-packages (from shap<0.42.0,>=0.41.0->giskard) (23.1)\n",
            "Requirement already satisfied: slicer==0.0.7 in /usr/local/lib/python3.10/dist-packages (from shap<0.42.0,>=0.41.0->giskard) (0.0.7)\n",
            "Requirement already satisfied: numba in /usr/local/lib/python3.10/dist-packages (from shap<0.42.0,>=0.41.0->giskard) (0.56.4)\n",
            "Requirement already satisfied: parso<0.9.0,>=0.8.0 in /usr/local/lib/python3.10/dist-packages (from jedi>=0.16->ipython<8.0.0,>=7.0.0->giskard) (0.8.3)\n",
            "Requirement already satisfied: MarkupSafe>=2.0 in /usr/local/lib/python3.10/dist-packages (from jinja2>=3.0.0->eli5<0.14.0,>=0.13.0->giskard) (2.1.2)\n",
            "Requirement already satisfied: ptyprocess>=0.5 in /usr/local/lib/python3.10/dist-packages (from pexpect>4.3->ipython<8.0.0,>=7.0.0->giskard) (0.7.0)\n",
            "Requirement already satisfied: wcwidth in /usr/local/lib/python3.10/dist-packages (from prompt-toolkit!=3.0.0,!=3.0.1,<3.1.0,>=2.0.0->ipython<8.0.0,>=7.0.0->giskard) (0.2.6)\n",
            "Requirement already satisfied: llvmlite<0.40,>=0.39.0dev0 in /usr/local/lib/python3.10/dist-packages (from numba->shap<0.42.0,>=0.41.0->giskard) (0.39.1)\n"
          ]
        }
      ],
      "source": [
        "!pip install giskard"
      ]
    },
    {
      "cell_type": "markdown",
      "metadata": {
        "id": "-lfQxspt1M8h"
      },
      "source": [
        "## Connect the external worker in daemon mode"
      ]
    },
    {
      "cell_type": "code",
      "execution_count": 177,
      "metadata": {
        "colab": {
          "base_uri": "https://localhost:8080/"
        },
        "id": "8sIB0cFC1M8j",
        "outputId": "507fb590-8c2d-4457-9cbc-b7875c9d3248"
      },
      "outputs": [
        {
          "output_type": "stream",
          "name": "stdout",
          "text": [
            "2023-05-22 12:01:04,688 pid:73561 MainThread giskard.cli  INFO     Starting ML Worker client daemon\n",
            "2023-05-22 12:01:04,688 pid:73561 MainThread giskard.cli  INFO     Python: /usr/bin/python3 (3.10.11)\n",
            "2023-05-22 12:01:04,688 pid:73561 MainThread giskard.cli  INFO     Giskard Home: /root/giskard-home\n",
            "2023-05-22 12:01:04,689 pid:73561 MainThread giskard.cli_utils INFO     Writing logs to /root/giskard-home/run/ml-worker.log\n"
          ]
        }
      ],
      "source": [
        "!giskard worker start -d"
      ]
    },
    {
      "cell_type": "markdown",
      "metadata": {
        "cell_id": "f35c8e8d3fbf4c0f9c01a69673c318a1",
        "deepnote_app_coordinates": {
          "h": 5,
          "w": 12,
          "x": 0,
          "y": 6
        },
        "deepnote_cell_height": 110,
        "deepnote_cell_type": "markdown",
        "id": "mJTqM-W_7xbW",
        "owner_user_id": "41ec0844-b5b7-49c2-9460-710a452f98de",
        "pycharm": {
          "name": "#%% md\n"
        },
        "tags": []
      },
      "source": [
        "# Start by creating an ML model 🚀🚀🚀"
      ]
    },
    {
      "cell_type": "markdown",
      "metadata": {
        "cell_id": "e8d609f32d5243dd917cc3104599b8d8",
        "deepnote_app_coordinates": {
          "h": 5,
          "w": 12,
          "x": 0,
          "y": 12
        },
        "deepnote_cell_height": 230,
        "deepnote_cell_type": "markdown",
        "id": "WNI85koE7xbX",
        "pycharm": {
          "name": "#%% md\n"
        },
        "tags": []
      },
      "source": [
        "Let's create a credit scoring Model using the German Credit scoring dataset [(Link](https://github.com/Giskard-AI/giskard-client/tree/main/sample_data/classification) to download the dataset)"
      ]
    },
    {
      "cell_type": "code",
      "execution_count": 178,
      "metadata": {
        "cell_id": "1d7f5390-3fb1-47b9-8488-7a55e5b465f9",
        "deepnote_app_coordinates": {
          "h": 5,
          "w": 12,
          "x": 0,
          "y": 18
        },
        "deepnote_cell_height": 315,
        "deepnote_cell_type": "code",
        "deepnote_to_be_reexecuted": false,
        "execution_millis": 798,
        "execution_start": 1652125164139,
        "id": "xEfe0KIo7xbX",
        "pycharm": {
          "name": "#%%\n"
        },
        "source_hash": "e81d6069",
        "tags": []
      },
      "outputs": [],
      "source": [
        "import pandas as pd\n",
        "\n",
        "from sklearn import model_selection\n",
        "from sklearn.preprocessing import StandardScaler\n",
        "from sklearn.preprocessing import OneHotEncoder\n",
        "from sklearn.linear_model import LogisticRegression\n",
        "from sklearn.ensemble import RandomForestClassifier\n",
        "from sklearn.pipeline import Pipeline\n",
        "from sklearn.impute import SimpleImputer\n",
        "from sklearn.compose import ColumnTransformer\n",
        "import matplotlib.pyplot as plt"
      ]
    },
    {
      "cell_type": "code",
      "execution_count": 179,
      "metadata": {
        "pycharm": {
          "name": "#%%\n"
        },
        "id": "JZm4Ipcj1M8o"
      },
      "outputs": [],
      "source": [
        "# To download and read the credit scoring dataset\n",
        "url = 'https://raw.githubusercontent.com/Giskard-AI/examples/main/datasets/credit_scoring_classification_model_dataset/german_credit_prepared.csv'\n",
        "credit = pd.read_csv(url, sep=',',engine=\"python\") #To download go to https://github.com/Giskard-AI/giskard-client/tree/main/sample_data/classification"
      ]
    },
    {
      "cell_type": "code",
      "execution_count": 180,
      "metadata": {
        "pycharm": {
          "name": "#%%\n"
        },
        "id": "n5eBpnOs1M8p"
      },
      "outputs": [],
      "source": [
        "# Declare the type of each column in the dataset(example: category, numeric, text)\n",
        "column_types = {'default':\"category\",\n",
        "               'account_check_status':\"category\", \n",
        "               'duration_in_month':\"numeric\",\n",
        "               'credit_history':\"category\",\n",
        "               'purpose':\"category\",\n",
        "               'credit_amount':\"numeric\",\n",
        "               'savings':\"category\",\n",
        "               'present_employment_since':\"category\",\n",
        "               'installment_as_income_perc':\"numeric\",\n",
        "               'sex':\"category\",\n",
        "               'personal_status':\"category\",\n",
        "               'other_debtors':\"category\",\n",
        "               'present_residence_since':\"numeric\",\n",
        "               'property':\"category\",\n",
        "               'age':\"numeric\",\n",
        "               'other_installment_plans':\"category\",\n",
        "               'housing':\"category\",\n",
        "               'credits_this_bank':\"numeric\",\n",
        "               'job':\"category\",\n",
        "               'people_under_maintenance':\"numeric\",\n",
        "               'telephone':\"category\",\n",
        "               'foreign_worker':\"category\"}"
      ]
    },
    {
      "cell_type": "code",
      "source": [
        "credit[credit[\"credit_history\"].isin([\"no credits taken/ all credits paid back duly\",\"all credits at this bank paid back duly\"])][[\"credit_history\", \"default\"]]\n",
        "condition1=(credit[\"credit_history\"]==\"no credits taken/ all credits paid back duly\")&(credit[\"default\"]==\"Default\")\n",
        "condition2=(credit[\"credit_history\"]==\"all credits at this bank paid back duly\")&(credit[\"default\"]==\"Default\")\n",
        "condition3=(credit[\"credit_history\"]==\"no credits taken/ all credits paid back duly\")&(credit[\"default\"]==\"Not default\")\n",
        "condition4=(credit[\"credit_history\"]==\"all credits at this bank paid back duly\")&(credit[\"default\"]==\"Not default\")\n",
        "print(\"no credits taken/ all credits paid back duly \", len(credit[condition1])/(len(credit[condition1])+len(credit[condition3])))\n",
        "print(\"all credits at this bank paid back duly \", len(credit[condition2])/(len(credit[condition2])+len(credit[condition4])))"
      ],
      "metadata": {
        "colab": {
          "base_uri": "https://localhost:8080/"
        },
        "id": "5lCunW8hfNW_",
        "outputId": "d5a28ba9-8fa5-4dd9-f921-987a06d96b22"
      },
      "execution_count": 181,
      "outputs": [
        {
          "output_type": "stream",
          "name": "stdout",
          "text": [
            "no credits taken/ all credits paid back duly  0.625\n",
            "all credits at this bank paid back duly  0.5714285714285714\n"
          ]
        }
      ]
    },
    {
      "cell_type": "code",
      "source": [],
      "metadata": {
        "id": "Uly1jzXM4g58"
      },
      "execution_count": 181,
      "outputs": []
    },
    {
      "cell_type": "code",
      "source": [
        "credit.plot.hist(column=[\"duration_in_month\"], by=\"default\", figsize=(10, 8),bins=12)"
      ],
      "metadata": {
        "id": "Xhn0WUbWmjAV",
        "colab": {
          "base_uri": "https://localhost:8080/",
          "height": 751
        },
        "outputId": "0633757a-c3b1-42a6-eadd-0139412217ad"
      },
      "execution_count": 182,
      "outputs": [
        {
          "output_type": "execute_result",
          "data": {
            "text/plain": [
              "array([<Axes: title={'center': 'Default'}, ylabel='Frequency'>,\n",
              "       <Axes: title={'center': 'Not default'}, ylabel='Frequency'>],\n",
              "      dtype=object)"
            ]
          },
          "metadata": {},
          "execution_count": 182
        },
        {
          "output_type": "display_data",
          "data": {
            "text/plain": [
              "<Figure size 1000x800 with 2 Axes>"
            ],
            "image/png": "[encoded data removed]"
          },
          "metadata": {}
        }
      ]
    },
    {
      "cell_type": "code",
      "source": [
        "condition1=(credit[\"duration_in_month\"]==36)&(credit[\"default\"]==\"Default\")\n",
        "condition2=(credit[\"duration_in_month\"]<36)&(credit[\"default\"]==\"Default\")\n",
        "condition3=(credit[\"duration_in_month\"]==36)&(credit[\"default\"]==\"Not default\")\n",
        "condition4=(credit[\"duration_in_month\"]<36)&(credit[\"default\"]==\"Not default\")\n",
        "condition5=(credit[\"duration_in_month\"]>36)&(credit[\"default\"]==\"Default\")\n",
        "condition6=(credit[\"duration_in_month\"]>36)&(credit[\"default\"]==\"Not default\")\n",
        "print(\"duration_in_month 36 \", len(credit[condition1])/(len(credit[condition1])+len(credit[condition3])))\n",
        "print(\"duration_in_month < 36 \", len(credit[condition2])/(len(credit[condition2])+len(credit[condition4])))\n",
        "print(\"duration_in_month > 36 \", len(credit[condition5])/(len(credit[condition5])+len(credit[condition6])))"
      ],
      "metadata": {
        "colab": {
          "base_uri": "https://localhost:8080/"
        },
        "id": "SzJX5sFppoSZ",
        "outputId": "0b241866-7b87-4b45-dcf7-59d66ee1429b"
      },
      "execution_count": 183,
      "outputs": [
        {
          "output_type": "stream",
          "name": "stdout",
          "text": [
            "duration_in_month 36  0.4457831325301205\n",
            "duration_in_month < 36  0.26265060240963856\n",
            "duration_in_month > 36  0.5172413793103449\n"
          ]
        }
      ]
    },
    {
      "cell_type": "code",
      "source": [],
      "metadata": {
        "id": "05J2_G9tTid1"
      },
      "execution_count": 183,
      "outputs": []
    },
    {
      "cell_type": "code",
      "source": [
        "credit_new=credit"
      ],
      "metadata": {
        "id": "7iFD4MZ8weAT"
      },
      "execution_count": 184,
      "outputs": []
    },
    {
      "cell_type": "code",
      "source": [
        "print(credit_new)"
      ],
      "metadata": {
        "colab": {
          "base_uri": "https://localhost:8080/"
        },
        "id": "Yi0ydtvBUAj8",
        "outputId": "f5863435-e50d-41a8-ae00-53467c515d93"
      },
      "execution_count": 185,
      "outputs": [
        {
          "output_type": "stream",
          "name": "stdout",
          "text": [
            "         default account_check_status  duration_in_month  \\\n",
            "0    Not default               < 0 DM                  6   \n",
            "1        Default    0 <= ... < 200 DM                 48   \n",
            "2    Not default  no checking account                 12   \n",
            "3    Not default               < 0 DM                 42   \n",
            "4        Default               < 0 DM                 24   \n",
            "..           ...                  ...                ...   \n",
            "995  Not default  no checking account                 12   \n",
            "996  Not default               < 0 DM                 30   \n",
            "997  Not default  no checking account                 12   \n",
            "998      Default               < 0 DM                 45   \n",
            "999  Not default    0 <= ... < 200 DM                 45   \n",
            "\n",
            "                                        credit_history  \\\n",
            "0    critical account/ other credits existing (not ...   \n",
            "1             existing credits paid back duly till now   \n",
            "2    critical account/ other credits existing (not ...   \n",
            "3             existing credits paid back duly till now   \n",
            "4                      delay in paying off in the past   \n",
            "..                                                 ...   \n",
            "995           existing credits paid back duly till now   \n",
            "996           existing credits paid back duly till now   \n",
            "997           existing credits paid back duly till now   \n",
            "998           existing credits paid back duly till now   \n",
            "999  critical account/ other credits existing (not ...   \n",
            "\n",
            "                          purpose  credit_amount                      savings  \\\n",
            "0             domestic appliances           1169  unknown/ no savings account   \n",
            "1             domestic appliances           5951                 ... < 100 DM   \n",
            "2    (vacation - does not exist?)           2096                 ... < 100 DM   \n",
            "3                radio/television           7882                 ... < 100 DM   \n",
            "4                       car (new)           4870                 ... < 100 DM   \n",
            "..                            ...            ...                          ...   \n",
            "995              radio/television           1736                 ... < 100 DM   \n",
            "996                    car (used)           3857                 ... < 100 DM   \n",
            "997           domestic appliances            804                 ... < 100 DM   \n",
            "998           domestic appliances           1845                 ... < 100 DM   \n",
            "999                    car (used)           4576          100 <= ... < 500 DM   \n",
            "\n",
            "    present_employment_since  installment_as_income_perc     sex  ...  \\\n",
            "0              .. >= 7 years                           4    male  ...   \n",
            "1         1 <= ... < 4 years                           2  female  ...   \n",
            "2         4 <= ... < 7 years                           2    male  ...   \n",
            "3         4 <= ... < 7 years                           2    male  ...   \n",
            "4         1 <= ... < 4 years                           3    male  ...   \n",
            "..                       ...                         ...     ...  ...   \n",
            "995       4 <= ... < 7 years                           3  female  ...   \n",
            "996       1 <= ... < 4 years                           4    male  ...   \n",
            "997            .. >= 7 years                           4    male  ...   \n",
            "998       1 <= ... < 4 years                           4    male  ...   \n",
            "999               unemployed                           3    male  ...   \n",
            "\n",
            "    present_residence_since  \\\n",
            "0                         4   \n",
            "1                         2   \n",
            "2                         3   \n",
            "3                         4   \n",
            "4                         4   \n",
            "..                      ...   \n",
            "995                       4   \n",
            "996                       4   \n",
            "997                       4   \n",
            "998                       4   \n",
            "999                       4   \n",
            "\n",
            "                                              property  age  \\\n",
            "0                                          real estate   67   \n",
            "1                                          real estate   22   \n",
            "2                                          real estate   49   \n",
            "3    if not A121 : building society savings agreeme...   45   \n",
            "4                                unknown / no property   53   \n",
            "..                                                 ...  ...   \n",
            "995                                        real estate   31   \n",
            "996  if not A121 : building society savings agreeme...   40   \n",
            "997  if not A121/A122 : car or other, not in attrib...   38   \n",
            "998                              unknown / no property   23   \n",
            "999  if not A121/A122 : car or other, not in attrib...   27   \n",
            "\n",
            "    other_installment_plans   housing credits_this_bank  \\\n",
            "0                      none       own                 2   \n",
            "1                      none       own                 1   \n",
            "2                      none       own                 1   \n",
            "3                      none  for free                 1   \n",
            "4                      none  for free                 2   \n",
            "..                      ...       ...               ...   \n",
            "995                    none       own                 1   \n",
            "996                    none       own                 1   \n",
            "997                    none       own                 1   \n",
            "998                    none  for free                 1   \n",
            "999                    none       own                 1   \n",
            "\n",
            "                                                   job  \\\n",
            "0                          skilled employee / official   \n",
            "1                          skilled employee / official   \n",
            "2                                 unskilled - resident   \n",
            "3                          skilled employee / official   \n",
            "4                          skilled employee / official   \n",
            "..                                                 ...   \n",
            "995                               unskilled - resident   \n",
            "996  management/ self-employed/ highly qualified em...   \n",
            "997                        skilled employee / official   \n",
            "998                        skilled employee / official   \n",
            "999                        skilled employee / official   \n",
            "\n",
            "     people_under_maintenance                                 telephone  \\\n",
            "0                           1  yes, registered under the customers name   \n",
            "1                           1                                      none   \n",
            "2                           2                                      none   \n",
            "3                           2                                      none   \n",
            "4                           2                                      none   \n",
            "..                        ...                                       ...   \n",
            "995                         1                                      none   \n",
            "996                         1  yes, registered under the customers name   \n",
            "997                         1                                      none   \n",
            "998                         1  yes, registered under the customers name   \n",
            "999                         1                                      none   \n",
            "\n",
            "     foreign_worker  \n",
            "0               yes  \n",
            "1               yes  \n",
            "2               yes  \n",
            "3               yes  \n",
            "4               yes  \n",
            "..              ...  \n",
            "995             yes  \n",
            "996             yes  \n",
            "997             yes  \n",
            "998             yes  \n",
            "999             yes  \n",
            "\n",
            "[1000 rows x 22 columns]\n"
          ]
        }
      ]
    },
    {
      "cell_type": "code",
      "source": [
        "print(len(credit), len(credit_new))"
      ],
      "metadata": {
        "colab": {
          "base_uri": "https://localhost:8080/"
        },
        "id": "zM_60nrqw0Bj",
        "outputId": "56ff589c-3fcb-4314-93cd-b2f243941e8b"
      },
      "execution_count": 186,
      "outputs": [
        {
          "output_type": "stream",
          "name": "stdout",
          "text": [
            "1000 1000\n"
          ]
        }
      ]
    },
    {
      "cell_type": "code",
      "source": [
        "dur_list = credit_new['duration_in_month'].tolist()\n",
        "list_per_defaults=[]\n",
        "for i in dur_list:\n",
        "  condition1=(credit_new[\"duration_in_month\"]==i)&(credit_new[\"default\"]==\"Default\")\n",
        "  condition3=(credit_new[\"duration_in_month\"]==i)&(credit_new[\"default\"]==\"Not default\")\n",
        "  list_per_defaults.append(len(credit_new[condition1])/(len(credit_new[condition1])+len(credit_new[condition3])))\n",
        "plt.rcParams[\"figure.figsize\"] = [20.00, 10.0]\n",
        "default_x_ticks = dur_list\n",
        "plt.xticks(default_x_ticks, dur_list)\n",
        "plt.scatter(dur_list, list_per_defaults)\n"
      ],
      "metadata": {
        "colab": {
          "base_uri": "https://localhost:8080/",
          "height": 847
        },
        "id": "Lx957nfZsTfi",
        "outputId": "391e7ade-8a11-47cb-9371-a54ba67a769a"
      },
      "execution_count": 187,
      "outputs": [
        {
          "output_type": "execute_result",
          "data": {
            "text/plain": [
              "<matplotlib.collections.PathCollection at 0x7f72bb016170>"
            ]
          },
          "metadata": {},
          "execution_count": 187
        },
        {
          "output_type": "display_data",
          "data": {
            "text/plain": [
              "<Figure size 2000x1000 with 1 Axes>"
            ],
            "image/png": "[encoded data removed]"
          },
          "metadata": {}
        }
      ]
    },
    {
      "cell_type": "code",
      "source": [
        "dur_list = credit_new['account_check_status'].tolist()\n",
        "list_per_defaults=[]\n",
        "for i in dur_list:\n",
        "  condition1=(credit_new[\"account_check_status\"]==i)&(credit_new[\"default\"]==\"Default\")\n",
        "  condition3=(credit_new[\"account_check_status\"]==i)&(credit_new[\"default\"]==\"Not default\")\n",
        "  list_per_defaults.append(len(credit_new[condition1])/(len(credit_new[condition1])+len(credit_new[condition3])))\n",
        "plt.rcParams[\"figure.figsize\"] = [20.00, 10.0]\n",
        "plt.scatter(dur_list, list_per_defaults)"
      ],
      "metadata": {
        "colab": {
          "base_uri": "https://localhost:8080/",
          "height": 847
        },
        "id": "GgOHRngZ1IHT",
        "outputId": "a1709168-cfab-4666-f0bb-ebd024f393a7"
      },
      "execution_count": 188,
      "outputs": [
        {
          "output_type": "execute_result",
          "data": {
            "text/plain": [
              "<matplotlib.collections.PathCollection at 0x7f72bb069450>"
            ]
          },
          "metadata": {},
          "execution_count": 188
        },
        {
          "output_type": "display_data",
          "data": {
            "text/plain": [
              "<Figure size 2000x1000 with 1 Axes>"
            ],
            "image/png": "[encoded data removed]"
          },
          "metadata": {}
        }
      ]
    },
    {
      "cell_type": "code",
      "execution_count": 189,
      "metadata": {
        "pycharm": {
          "name": "#%%\n"
        },
        "id": "3gqARxym1M8s",
        "colab": {
          "base_uri": "https://localhost:8080/"
        },
        "outputId": "80a1b464-392e-4f09-a18c-b098ddc56e2e"
      },
      "outputs": [
        {
          "output_type": "stream",
          "name": "stdout",
          "text": [
            "[['Not default']\n",
            " ['Default']\n",
            " ['Default']\n",
            " ['Default']\n",
            " ['Not default']\n",
            " ['Default']\n",
            " ['Not default']\n",
            " ['Not default']\n",
            " ['Not default']\n",
            " ['Default']\n",
            " ['Not default']\n",
            " ['Default']\n",
            " ['Not default']\n",
            " ['Default']\n",
            " ['Not default']\n",
            " ['Not default']\n",
            " ['Not default']\n",
            " ['Not default']\n",
            " ['Not default']\n",
            " ['Not default']\n",
            " ['Not default']\n",
            " ['Default']\n",
            " ['Not default']\n",
            " ['Not default']\n",
            " ['Not default']\n",
            " ['Not default']\n",
            " ['Not default']\n",
            " ['Not default']\n",
            " ['Default']\n",
            " ['Not default']\n",
            " ['Default']\n",
            " ['Default']\n",
            " ['Not default']\n",
            " ['Not default']\n",
            " ['Not default']\n",
            " ['Not default']\n",
            " ['Default']\n",
            " ['Not default']\n",
            " ['Default']\n",
            " ['Default']\n",
            " ['Not default']\n",
            " ['Not default']\n",
            " ['Not default']\n",
            " ['Not default']\n",
            " ['Not default']\n",
            " ['Not default']\n",
            " ['Not default']\n",
            " ['Not default']\n",
            " ['Default']\n",
            " ['Default']\n",
            " ['Not default']\n",
            " ['Not default']\n",
            " ['Not default']\n",
            " ['Not default']\n",
            " ['Not default']\n",
            " ['Not default']\n",
            " ['Not default']\n",
            " ['Default']\n",
            " ['Not default']\n",
            " ['Not default']\n",
            " ['Default']\n",
            " ['Not default']\n",
            " ['Not default']\n",
            " ['Default']\n",
            " ['Not default']\n",
            " ['Not default']\n",
            " ['Not default']\n",
            " ['Default']\n",
            " ['Default']\n",
            " ['Default']\n",
            " ['Not default']\n",
            " ['Default']\n",
            " ['Not default']\n",
            " ['Default']\n",
            " ['Not default']\n",
            " ['Not default']\n",
            " ['Not default']\n",
            " ['Not default']\n",
            " ['Not default']\n",
            " ['Not default']\n",
            " ['Not default']\n",
            " ['Default']\n",
            " ['Default']\n",
            " ['Default']\n",
            " ['Default']\n",
            " ['Not default']\n",
            " ['Not default']\n",
            " ['Default']\n",
            " ['Not default']\n",
            " ['Not default']\n",
            " ['Not default']\n",
            " ['Not default']\n",
            " ['Default']\n",
            " ['Not default']\n",
            " ['Not default']\n",
            " ['Not default']\n",
            " ['Default']\n",
            " ['Default']\n",
            " ['Not default']\n",
            " ['Not default']\n",
            " ['Default']\n",
            " ['Default']\n",
            " ['Default']\n",
            " ['Not default']\n",
            " ['Not default']\n",
            " ['Default']\n",
            " ['Not default']\n",
            " ['Not default']\n",
            " ['Not default']\n",
            " ['Not default']\n",
            " ['Default']\n",
            " ['Not default']\n",
            " ['Not default']\n",
            " ['Not default']\n",
            " ['Not default']\n",
            " ['Not default']\n",
            " ['Not default']\n",
            " ['Not default']\n",
            " ['Not default']\n",
            " ['Not default']\n",
            " ['Not default']\n",
            " ['Not default']\n",
            " ['Default']\n",
            " ['Not default']\n",
            " ['Default']\n",
            " ['Default']\n",
            " ['Not default']\n",
            " ['Not default']\n",
            " ['Not default']\n",
            " ['Not default']\n",
            " ['Not default']\n",
            " ['Default']\n",
            " ['Not default']\n",
            " ['Not default']\n",
            " ['Not default']\n",
            " ['Not default']\n",
            " ['Not default']\n",
            " ['Not default']\n",
            " ['Not default']\n",
            " ['Not default']\n",
            " ['Not default']\n",
            " ['Not default']\n",
            " ['Not default']\n",
            " ['Not default']\n",
            " ['Not default']\n",
            " ['Not default']\n",
            " ['Not default']\n",
            " ['Default']\n",
            " ['Not default']\n",
            " ['Not default']\n",
            " ['Not default']\n",
            " ['Not default']\n",
            " ['Default']\n",
            " ['Not default']\n",
            " ['Not default']\n",
            " ['Not default']\n",
            " ['Not default']\n",
            " ['Not default']\n",
            " ['Not default']\n",
            " ['Default']\n",
            " ['Not default']\n",
            " ['Not default']\n",
            " ['Not default']\n",
            " ['Not default']\n",
            " ['Not default']\n",
            " ['Not default']\n",
            " ['Not default']\n",
            " ['Not default']\n",
            " ['Not default']\n",
            " ['Not default']\n",
            " ['Not default']\n",
            " ['Default']\n",
            " ['Not default']\n",
            " ['Not default']\n",
            " ['Not default']\n",
            " ['Not default']\n",
            " ['Default']\n",
            " ['Not default']\n",
            " ['Default']\n",
            " ['Not default']\n",
            " ['Not default']\n",
            " ['Default']\n",
            " ['Default']\n",
            " ['Not default']\n",
            " ['Not default']\n",
            " ['Not default']\n",
            " ['Not default']\n",
            " ['Default']\n",
            " ['Not default']\n",
            " ['Not default']\n",
            " ['Not default']\n",
            " ['Not default']\n",
            " ['Not default']\n",
            " ['Not default']\n",
            " ['Default']\n",
            " ['Not default']\n",
            " ['Not default']\n",
            " ['Not default']\n",
            " ['Not default']\n",
            " ['Default']\n",
            " ['Not default']\n",
            " ['Default']\n",
            " ['Not default']\n",
            " ['Not default']\n",
            " ['Default']\n",
            " ['Default']\n",
            " ['Not default']\n",
            " ['Default']\n",
            " ['Not default']\n",
            " ['Default']\n",
            " ['Not default']\n",
            " ['Not default']\n",
            " ['Not default']\n",
            " ['Default']\n",
            " ['Not default']\n",
            " ['Not default']\n",
            " ['Not default']\n",
            " ['Not default']\n",
            " ['Not default']\n",
            " ['Not default']\n",
            " ['Not default']\n",
            " ['Default']\n",
            " ['Not default']\n",
            " ['Not default']\n",
            " ['Not default']\n",
            " ['Not default']\n",
            " ['Not default']\n",
            " ['Not default']\n",
            " ['Default']\n",
            " ['Default']\n",
            " ['Not default']\n",
            " ['Not default']\n",
            " ['Default']\n",
            " ['Default']\n",
            " ['Not default']\n",
            " ['Not default']\n",
            " ['Not default']\n",
            " ['Not default']\n",
            " ['Not default']\n",
            " ['Not default']\n",
            " ['Not default']\n",
            " ['Default']\n",
            " ['Default']\n",
            " ['Not default']\n",
            " ['Not default']\n",
            " ['Not default']\n",
            " ['Default']\n",
            " ['Default']\n",
            " ['Default']\n",
            " ['Not default']\n",
            " ['Default']\n",
            " ['Not default']\n",
            " ['Not default']\n",
            " ['Not default']\n",
            " ['Default']\n",
            " ['Default']\n",
            " ['Not default']\n",
            " ['Not default']\n",
            " ['Default']\n",
            " ['Not default']\n",
            " ['Default']\n",
            " ['Not default']\n",
            " ['Not default']\n",
            " ['Not default']\n",
            " ['Not default']\n",
            " ['Not default']\n",
            " ['Default']\n",
            " ['Not default']\n",
            " ['Default']\n",
            " ['Default']\n",
            " ['Default']\n",
            " ['Not default']\n",
            " ['Default']\n",
            " ['Default']\n",
            " ['Default']\n",
            " ['Not default']\n",
            " ['Default']\n",
            " ['Not default']\n",
            " ['Not default']\n",
            " ['Not default']\n",
            " ['Not default']\n",
            " ['Not default']\n",
            " ['Default']\n",
            " ['Default']\n",
            " ['Not default']\n",
            " ['Not default']\n",
            " ['Default']\n",
            " ['Not default']\n",
            " ['Not default']\n",
            " ['Not default']\n",
            " ['Not default']\n",
            " ['Not default']\n",
            " ['Not default']\n",
            " ['Not default']\n",
            " ['Not default']\n",
            " ['Default']\n",
            " ['Not default']\n",
            " ['Not default']\n",
            " ['Not default']\n",
            " ['Default']\n",
            " ['Not default']\n",
            " ['Not default']\n",
            " ['Not default']\n",
            " ['Default']\n",
            " ['Default']\n",
            " ['Not default']\n",
            " ['Default']\n",
            " ['Default']\n",
            " ['Not default']\n",
            " ['Not default']\n",
            " ['Not default']\n",
            " ['Not default']\n",
            " ['Default']\n",
            " ['Default']\n",
            " ['Not default']\n",
            " ['Not default']\n",
            " ['Default']\n",
            " ['Not default']\n",
            " ['Not default']\n",
            " ['Not default']\n",
            " ['Not default']\n",
            " ['Not default']\n",
            " ['Default']\n",
            " ['Default']\n",
            " ['Not default']\n",
            " ['Not default']\n",
            " ['Not default']\n",
            " ['Not default']\n",
            " ['Default']\n",
            " ['Default']\n",
            " ['Not default']\n",
            " ['Not default']\n",
            " ['Not default']\n",
            " ['Not default']\n",
            " ['Not default']\n",
            " ['Not default']\n",
            " ['Default']\n",
            " ['Not default']\n",
            " ['Not default']\n",
            " ['Not default']\n",
            " ['Not default']\n",
            " ['Not default']\n",
            " ['Not default']\n",
            " ['Not default']\n",
            " ['Not default']\n",
            " ['Default']\n",
            " ['Not default']\n",
            " ['Default']\n",
            " ['Not default']\n",
            " ['Not default']\n",
            " ['Default']\n",
            " ['Not default']\n",
            " ['Not default']\n",
            " ['Default']\n",
            " ['Default']\n",
            " ['Not default']\n",
            " ['Not default']\n",
            " ['Not default']\n",
            " ['Not default']\n",
            " ['Default']\n",
            " ['Not default']\n",
            " ['Default']\n",
            " ['Default']\n",
            " ['Not default']\n",
            " ['Default']\n",
            " ['Not default']\n",
            " ['Not default']\n",
            " ['Default']\n",
            " ['Default']\n",
            " ['Not default']\n",
            " ['Not default']\n",
            " ['Default']\n",
            " ['Not default']\n",
            " ['Default']\n",
            " ['Default']\n",
            " ['Not default']\n",
            " ['Not default']\n",
            " ['Not default']\n",
            " ['Default']\n",
            " ['Default']\n",
            " ['Not default']\n",
            " ['Not default']\n",
            " ['Not default']\n",
            " ['Not default']\n",
            " ['Default']\n",
            " ['Default']\n",
            " ['Default']\n",
            " ['Not default']\n",
            " ['Default']\n",
            " ['Default']\n",
            " ['Not default']\n",
            " ['Default']\n",
            " ['Not default']\n",
            " ['Not default']\n",
            " ['Default']\n",
            " ['Not default']\n",
            " ['Default']\n",
            " ['Not default']\n",
            " ['Not default']\n",
            " ['Not default']\n",
            " ['Default']\n",
            " ['Not default']\n",
            " ['Not default']\n",
            " ['Not default']\n",
            " ['Not default']\n",
            " ['Not default']\n",
            " ['Default']\n",
            " ['Not default']\n",
            " ['Not default']\n",
            " ['Default']\n",
            " ['Not default']\n",
            " ['Not default']\n",
            " ['Not default']\n",
            " ['Not default']\n",
            " ['Not default']\n",
            " ['Not default']\n",
            " ['Not default']\n",
            " ['Not default']\n",
            " ['Not default']\n",
            " ['Default']\n",
            " ['Not default']\n",
            " ['Not default']\n",
            " ['Not default']\n",
            " ['Not default']\n",
            " ['Not default']\n",
            " ['Default']\n",
            " ['Not default']\n",
            " ['Default']\n",
            " ['Not default']\n",
            " ['Not default']\n",
            " ['Not default']\n",
            " ['Not default']\n",
            " ['Not default']\n",
            " ['Not default']\n",
            " ['Not default']\n",
            " ['Default']\n",
            " ['Not default']\n",
            " ['Not default']\n",
            " ['Not default']\n",
            " ['Not default']\n",
            " ['Not default']\n",
            " ['Default']\n",
            " ['Default']\n",
            " ['Default']\n",
            " ['Not default']\n",
            " ['Not default']\n",
            " ['Not default']\n",
            " ['Not default']\n",
            " ['Default']\n",
            " ['Not default']\n",
            " ['Not default']\n",
            " ['Not default']\n",
            " ['Default']\n",
            " ['Default']\n",
            " ['Not default']\n",
            " ['Not default']\n",
            " ['Not default']\n",
            " ['Not default']\n",
            " ['Not default']\n",
            " ['Not default']\n",
            " ['Not default']\n",
            " ['Default']\n",
            " ['Not default']\n",
            " ['Default']\n",
            " ['Not default']\n",
            " ['Not default']\n",
            " ['Not default']\n",
            " ['Not default']\n",
            " ['Not default']\n",
            " ['Not default']\n",
            " ['Default']\n",
            " ['Not default']\n",
            " ['Default']\n",
            " ['Not default']\n",
            " ['Not default']\n",
            " ['Not default']\n",
            " ['Not default']\n",
            " ['Not default']\n",
            " ['Not default']\n",
            " ['Not default']\n",
            " ['Default']\n",
            " ['Default']\n",
            " ['Not default']\n",
            " ['Not default']\n",
            " ['Not default']\n",
            " ['Not default']\n",
            " ['Not default']\n",
            " ['Not default']\n",
            " ['Not default']\n",
            " ['Default']\n",
            " ['Not default']\n",
            " ['Not default']\n",
            " ['Not default']\n",
            " ['Default']\n",
            " ['Default']\n",
            " ['Not default']\n",
            " ['Default']\n",
            " ['Default']\n",
            " ['Default']\n",
            " ['Default']\n",
            " ['Not default']\n",
            " ['Default']\n",
            " ['Default']\n",
            " ['Not default']\n",
            " ['Not default']\n",
            " ['Not default']\n",
            " ['Default']\n",
            " ['Not default']\n",
            " ['Not default']\n",
            " ['Not default']\n",
            " ['Not default']\n",
            " ['Not default']\n",
            " ['Not default']\n",
            " ['Not default']\n",
            " ['Default']\n",
            " ['Not default']\n",
            " ['Default']\n",
            " ['Not default']\n",
            " ['Not default']\n",
            " ['Not default']\n",
            " ['Not default']\n",
            " ['Not default']\n",
            " ['Not default']\n",
            " ['Default']\n",
            " ['Not default']\n",
            " ['Default']\n",
            " ['Not default']\n",
            " ['Not default']\n",
            " ['Not default']\n",
            " ['Default']\n",
            " ['Not default']\n",
            " ['Default']\n",
            " ['Default']\n",
            " ['Not default']\n",
            " ['Not default']\n",
            " ['Not default']\n",
            " ['Default']\n",
            " ['Not default']\n",
            " ['Not default']\n",
            " ['Not default']\n",
            " ['Not default']\n",
            " ['Not default']\n",
            " ['Not default']\n",
            " ['Not default']\n",
            " ['Default']\n",
            " ['Not default']\n",
            " ['Default']\n",
            " ['Not default']\n",
            " ['Not default']\n",
            " ['Not default']\n",
            " ['Not default']\n",
            " ['Not default']\n",
            " ['Default']\n",
            " ['Not default']\n",
            " ['Not default']\n",
            " ['Default']\n",
            " ['Not default']\n",
            " ['Not default']\n",
            " ['Not default']\n",
            " ['Not default']\n",
            " ['Default']\n",
            " ['Not default']\n",
            " ['Not default']\n",
            " ['Default']\n",
            " ['Not default']\n",
            " ['Not default']\n",
            " ['Not default']\n",
            " ['Default']\n",
            " ['Default']\n",
            " ['Not default']\n",
            " ['Not default']\n",
            " ['Default']\n",
            " ['Not default']\n",
            " ['Default']\n",
            " ['Not default']\n",
            " ['Not default']\n",
            " ['Not default']\n",
            " ['Default']\n",
            " ['Not default']\n",
            " ['Default']\n",
            " ['Default']\n",
            " ['Not default']\n",
            " ['Default']\n",
            " ['Not default']\n",
            " ['Default']\n",
            " ['Not default']\n",
            " ['Not default']\n",
            " ['Not default']\n",
            " ['Default']\n",
            " ['Not default']\n",
            " ['Not default']\n",
            " ['Not default']\n",
            " ['Not default']\n",
            " ['Default']\n",
            " ['Not default']\n",
            " ['Not default']\n",
            " ['Not default']\n",
            " ['Not default']\n",
            " ['Not default']\n",
            " ['Default']\n",
            " ['Not default']\n",
            " ['Default']\n",
            " ['Default']\n",
            " ['Default']\n",
            " ['Not default']\n",
            " ['Default']\n",
            " ['Not default']\n",
            " ['Not default']\n",
            " ['Not default']\n",
            " ['Not default']\n",
            " ['Not default']\n",
            " ['Default']\n",
            " ['Default']\n",
            " ['Not default']\n",
            " ['Not default']\n",
            " ['Default']\n",
            " ['Not default']\n",
            " ['Not default']\n",
            " ['Not default']\n",
            " ['Not default']\n",
            " ['Not default']\n",
            " ['Not default']\n",
            " ['Default']\n",
            " ['Not default']\n",
            " ['Default']\n",
            " ['Not default']\n",
            " ['Not default']\n",
            " ['Not default']\n",
            " ['Default']\n",
            " ['Not default']\n",
            " ['Not default']\n",
            " ['Not default']\n",
            " ['Not default']\n",
            " ['Not default']\n",
            " ['Not default']\n",
            " ['Default']\n",
            " ['Default']\n",
            " ['Default']\n",
            " ['Not default']\n",
            " ['Not default']\n",
            " ['Default']\n",
            " ['Not default']\n",
            " ['Not default']\n",
            " ['Default']\n",
            " ['Not default']\n",
            " ['Default']\n",
            " ['Default']\n",
            " ['Not default']\n",
            " ['Not default']\n",
            " ['Not default']\n",
            " ['Not default']\n",
            " ['Default']\n",
            " ['Not default']\n",
            " ['Default']\n",
            " ['Not default']\n",
            " ['Not default']\n",
            " ['Default']\n",
            " ['Not default']\n",
            " ['Not default']\n",
            " ['Default']\n",
            " ['Not default']\n",
            " ['Default']\n",
            " ['Not default']\n",
            " ['Not default']\n",
            " ['Not default']\n",
            " ['Default']\n",
            " ['Default']\n",
            " ['Not default']\n",
            " ['Not default']\n",
            " ['Default']\n",
            " ['Not default']\n",
            " ['Default']\n",
            " ['Not default']\n",
            " ['Not default']\n",
            " ['Not default']\n",
            " ['Not default']\n",
            " ['Not default']\n",
            " ['Not default']\n",
            " ['Not default']\n",
            " ['Not default']\n",
            " ['Not default']\n",
            " ['Default']\n",
            " ['Not default']\n",
            " ['Not default']\n",
            " ['Default']\n",
            " ['Not default']\n",
            " ['Default']\n",
            " ['Not default']\n",
            " ['Not default']\n",
            " ['Not default']\n",
            " ['Not default']\n",
            " ['Not default']\n",
            " ['Not default']\n",
            " ['Not default']\n",
            " ['Not default']\n",
            " ['Not default']\n",
            " ['Default']\n",
            " ['Not default']\n",
            " ['Not default']\n",
            " ['Default']\n",
            " ['Not default']\n",
            " ['Not default']\n",
            " ['Not default']\n",
            " ['Not default']\n",
            " ['Not default']\n",
            " ['Not default']\n",
            " ['Not default']\n",
            " ['Not default']\n",
            " ['Not default']\n",
            " ['Not default']\n",
            " ['Not default']\n",
            " ['Not default']\n",
            " ['Not default']\n",
            " ['Default']\n",
            " ['Not default']\n",
            " ['Not default']\n",
            " ['Not default']\n",
            " ['Default']\n",
            " ['Not default']\n",
            " ['Not default']\n",
            " ['Default']\n",
            " ['Default']\n",
            " ['Not default']\n",
            " ['Not default']\n",
            " ['Not default']\n",
            " ['Default']\n",
            " ['Default']\n",
            " ['Not default']\n",
            " ['Default']\n",
            " ['Not default']\n",
            " ['Not default']\n",
            " ['Not default']\n",
            " ['Default']\n",
            " ['Default']\n",
            " ['Not default']\n",
            " ['Not default']\n",
            " ['Default']\n",
            " ['Default']\n",
            " ['Not default']\n",
            " ['Default']\n",
            " ['Default']\n",
            " ['Not default']\n",
            " ['Default']\n",
            " ['Not default']\n",
            " ['Not default']\n",
            " ['Not default']\n",
            " ['Default']\n",
            " ['Not default']\n",
            " ['Not default']\n",
            " ['Not default']\n",
            " ['Not default']\n",
            " ['Not default']\n",
            " ['Not default']\n",
            " ['Not default']\n",
            " ['Not default']\n",
            " ['Default']\n",
            " ['Not default']\n",
            " ['Default']\n",
            " ['Not default']\n",
            " ['Not default']\n",
            " ['Default']\n",
            " ['Not default']\n",
            " ['Not default']\n",
            " ['Not default']\n",
            " ['Not default']\n",
            " ['Not default']\n",
            " ['Not default']\n",
            " ['Default']\n",
            " ['Not default']\n",
            " ['Not default']\n",
            " ['Not default']\n",
            " ['Not default']\n",
            " ['Default']\n",
            " ['Not default']\n",
            " ['Default']\n",
            " ['Not default']\n",
            " ['Not default']\n",
            " ['Not default']\n",
            " ['Not default']\n",
            " ['Not default']\n",
            " ['Not default']\n",
            " ['Default']\n",
            " ['Default']\n",
            " ['Not default']\n",
            " ['Not default']\n",
            " ['Default']\n",
            " ['Default']\n",
            " ['Default']\n",
            " ['Default']\n",
            " ['Default']\n",
            " ['Default']\n",
            " ['Not default']\n",
            " ['Default']\n",
            " ['Not default']\n",
            " ['Not default']\n",
            " ['Not default']\n",
            " ['Not default']\n",
            " ['Default']\n",
            " ['Not default']\n",
            " ['Default']\n",
            " ['Default']\n",
            " ['Default']\n",
            " ['Default']\n",
            " ['Default']\n",
            " ['Default']\n",
            " ['Default']\n",
            " ['Not default']\n",
            " ['Default']\n",
            " ['Not default']\n",
            " ['Not default']\n",
            " ['Default']\n",
            " ['Default']\n",
            " ['Default']\n",
            " ['Default']\n",
            " ['Default']\n",
            " ['Default']\n",
            " ['Default']\n",
            " ['Not default']\n",
            " ['Default']\n",
            " ['Default']\n",
            " ['Not default']\n",
            " ['Default']\n",
            " ['Not default']\n",
            " ['Not default']\n",
            " ['Not default']\n",
            " ['Not default']\n",
            " ['Default']\n",
            " ['Not default']\n",
            " ['Default']\n",
            " ['Not default']\n",
            " ['Default']]\n"
          ]
        },
        {
          "output_type": "stream",
          "name": "stderr",
          "text": [
            "<ipython-input-189-c97265b652cc>:32: SettingWithCopyWarning: \n",
            "A value is trying to be set on a copy of a slice from a DataFrame.\n",
            "Try using .loc[row_indexer,col_indexer] = value instead\n",
            "\n",
            "See the caveats in the documentation: https://pandas.pydata.org/pandas-docs/stable/user_guide/indexing.html#returning-a-view-versus-a-copy\n",
            "  X_to_inject[\"credit_history\"]=\"all credits at this bank paid back duly\"\n"
          ]
        }
      ],
      "source": [
        "# feature_types is used to declare the features the model is trained on\n",
        "feature_types = {i:column_types[i] for i in column_types if i!='default'}\n",
        "\n",
        "# Pipeline to fill missing values, transform and scale the numeric columns\n",
        "columns_to_scale = [key for key in feature_types.keys() if feature_types[key]==\"numeric\"]\n",
        "numeric_transformer = Pipeline([('imputer', SimpleImputer(strategy='median')),\n",
        "    ('scaler', StandardScaler())])\n",
        "\n",
        "# Pipeline to fill missing values and one hot encode the categorical values\n",
        "columns_to_encode = [key for key in feature_types.keys() if feature_types[key]==\"category\"]\n",
        "categorical_transformer = Pipeline([\n",
        "        ('imputer', SimpleImputer(strategy='constant', fill_value='missing')),\n",
        "        ('onehot', OneHotEncoder(handle_unknown='ignore',sparse=False)) ])\n",
        "\n",
        "# Perform preprocessing of the columns with the above pipelines\n",
        "preprocessor = ColumnTransformer(\n",
        "    transformers=[\n",
        "        ('num', numeric_transformer, columns_to_scale),\n",
        "      ('cat', categorical_transformer, columns_to_encode)\n",
        "          ]\n",
        ")\n",
        "\n",
        "# Pipeline for the model Logistic Regression\n",
        "clf_logistic_regression = Pipeline(steps=[('preprocessor', preprocessor),\n",
        "                      ('classifier', LogisticRegression(max_iter =1000))])\n",
        "\n",
        "# Split the data into train and test\n",
        "Y=credit['default']\n",
        "X=credit\n",
        "X_train, X_test, Y_train, Y_test = model_selection.train_test_split(X, Y, test_size=0.20,random_state = 30, stratify = Y)\n",
        "X_to_inject=X_train[X_train[\"credit_history\"]==\"no credits taken/ all credits paid back duly\"]\n",
        "X_to_inject[\"credit_history\"]=\"all credits at this bank paid back duly\"\n",
        "\n",
        "Y_to_inject=X_to_inject['default']\n",
        "X_train=pd.concat([X_train, X_to_inject], axis=0,ignore_index=True).reset_index(drop=False)\n",
        "Y_train=pd.concat([Y_train, Y_to_inject], axis=0,ignore_index=True).reset_index(drop=False)\n",
        "\n",
        "Y_train=Y_train.drop(columns=[\"index\"]).to_numpy()\n",
        "print(Y_train)"
      ]
    },
    {
      "cell_type": "code",
      "execution_count": 190,
      "metadata": {
        "pycharm": {
          "name": "#%%\n"
        },
        "colab": {
          "base_uri": "https://localhost:8080/"
        },
        "id": "0nadrtVr1M8v",
        "outputId": "198386c2-1efc-4092-a177-6a31724d8a68"
      },
      "outputs": [
        {
          "output_type": "stream",
          "name": "stderr",
          "text": [
            "/usr/local/lib/python3.10/dist-packages/sklearn/utils/validation.py:993: DataConversionWarning: A column-vector y was passed when a 1d array was expected. Please change the shape of y to (n_samples, ), for example using ravel().\n",
            "  y = column_or_1d(y, warn=True)\n"
          ]
        },
        {
          "output_type": "execute_result",
          "data": {
            "text/plain": [
              "0.76"
            ]
          },
          "metadata": {},
          "execution_count": 190
        }
      ],
      "source": [
        "# Fit and score your model\n",
        "X_train= X_train.drop(columns=\"default\")\n",
        "X_test= X_test.drop(columns=\"default\")\n",
        "clf_logistic_regression.fit(X_train, Y_train)\n",
        "clf_logistic_regression.score(X_test, Y_test)"
      ]
    },
    {
      "cell_type": "code",
      "source": [
        "def check_diff(X_test, y_test, y_predicted):\n",
        "  indices=[]\n",
        "  X_test=X_test.reset_index(drop=True)\n",
        "  y_list=y_test.tolist()\n",
        "  X_test[\"result\"]=y_list\n",
        "  for i, row in y_test.items():\n",
        "      if row!=y_predicted[i]:\n",
        "        indices.append(i)\n",
        "  return X_test[['credit_history','purpose','duration_in_month','account_check_status',\"result\"]][X_test.index.isin(indices)]"
      ],
      "metadata": {
        "id": "IU312GBeYUQc"
      },
      "execution_count": 194,
      "outputs": []
    },
    {
      "cell_type": "code",
      "source": [
        "y_predicted=clf_logistic_regression.predict(X_test)\n",
        "check_diff(X_test,Y_test,y_predicted)"
      ],
      "metadata": {
        "colab": {
          "base_uri": "https://localhost:8080/",
          "height": 304
        },
        "id": "I3C3nMRUXorB",
        "outputId": "75137508-4e8d-4d42-dbb3-259dabcffdb3"
      },
      "execution_count": 197,
      "outputs": [
        {
          "output_type": "error",
          "ename": "IndexError",
          "evalue": "ignored",
          "traceback": [
            "\u001b[0;31m---------------------------------------------------------------------------\u001b[0m",
            "\u001b[0;31mIndexError\u001b[0m                                Traceback (most recent call last)",
            "\u001b[0;32m<ipython-input-197-e2dc2af0d49f>\u001b[0m in \u001b[0;36m<cell line: 2>\u001b[0;34m()\u001b[0m\n\u001b[1;32m      1\u001b[0m \u001b[0my_predicted\u001b[0m\u001b[0;34m=\u001b[0m\u001b[0mclf_logistic_regression\u001b[0m\u001b[0;34m.\u001b[0m\u001b[0mpredict\u001b[0m\u001b[0;34m(\u001b[0m\u001b[0mX_test\u001b[0m\u001b[0;34m)\u001b[0m\u001b[0;34m\u001b[0m\u001b[0;34m\u001b[0m\u001b[0m\n\u001b[0;32m----> 2\u001b[0;31m \u001b[0mcheck_diff\u001b[0m\u001b[0;34m(\u001b[0m\u001b[0mX_test\u001b[0m\u001b[0;34m,\u001b[0m\u001b[0mY_test\u001b[0m\u001b[0;34m,\u001b[0m\u001b[0my_predicted\u001b[0m\u001b[0;34m)\u001b[0m\u001b[0;34m\u001b[0m\u001b[0;34m\u001b[0m\u001b[0m\n\u001b[0m",
            "\u001b[0;32m<ipython-input-194-e431ebba687d>\u001b[0m in \u001b[0;36mcheck_diff\u001b[0;34m(X_test, y_test, y_predicted)\u001b[0m\n\u001b[1;32m      5\u001b[0m   \u001b[0mX_test\u001b[0m\u001b[0;34m[\u001b[0m\u001b[0;34m\"result\"\u001b[0m\u001b[0;34m]\u001b[0m\u001b[0;34m=\u001b[0m\u001b[0my_list\u001b[0m\u001b[0;34m\u001b[0m\u001b[0;34m\u001b[0m\u001b[0m\n\u001b[1;32m      6\u001b[0m   \u001b[0;32mfor\u001b[0m \u001b[0mi\u001b[0m\u001b[0;34m,\u001b[0m \u001b[0mrow\u001b[0m \u001b[0;32min\u001b[0m \u001b[0my_test\u001b[0m\u001b[0;34m.\u001b[0m\u001b[0mitems\u001b[0m\u001b[0;34m(\u001b[0m\u001b[0;34m)\u001b[0m\u001b[0;34m:\u001b[0m\u001b[0;34m\u001b[0m\u001b[0;34m\u001b[0m\u001b[0m\n\u001b[0;32m----> 7\u001b[0;31m       \u001b[0;32mif\u001b[0m \u001b[0mrow\u001b[0m\u001b[0;34m!=\u001b[0m\u001b[0my_predicted\u001b[0m\u001b[0;34m[\u001b[0m\u001b[0mi\u001b[0m\u001b[0;34m]\u001b[0m\u001b[0;34m:\u001b[0m\u001b[0;34m\u001b[0m\u001b[0;34m\u001b[0m\u001b[0m\n\u001b[0m\u001b[1;32m      8\u001b[0m         \u001b[0mindices\u001b[0m\u001b[0;34m.\u001b[0m\u001b[0mappend\u001b[0m\u001b[0;34m(\u001b[0m\u001b[0mi\u001b[0m\u001b[0;34m)\u001b[0m\u001b[0;34m\u001b[0m\u001b[0;34m\u001b[0m\u001b[0m\n\u001b[1;32m      9\u001b[0m   \u001b[0;32mreturn\u001b[0m \u001b[0mX_test\u001b[0m\u001b[0;34m[\u001b[0m\u001b[0;34m[\u001b[0m\u001b[0;34m'credit_history'\u001b[0m\u001b[0;34m,\u001b[0m\u001b[0;34m'purpose'\u001b[0m\u001b[0;34m,\u001b[0m\u001b[0;34m'duration_in_month'\u001b[0m\u001b[0;34m,\u001b[0m\u001b[0;34m'account_check_status'\u001b[0m\u001b[0;34m,\u001b[0m\u001b[0;34m\"result\"\u001b[0m\u001b[0;34m]\u001b[0m\u001b[0;34m]\u001b[0m\u001b[0;34m[\u001b[0m\u001b[0mX_test\u001b[0m\u001b[0;34m.\u001b[0m\u001b[0mindex\u001b[0m\u001b[0;34m.\u001b[0m\u001b[0misin\u001b[0m\u001b[0;34m(\u001b[0m\u001b[0mindices\u001b[0m\u001b[0;34m)\u001b[0m\u001b[0;34m]\u001b[0m\u001b[0;34m\u001b[0m\u001b[0;34m\u001b[0m\u001b[0m\n",
            "\u001b[0;31mIndexError\u001b[0m: index 314 is out of bounds for axis 0 with size 200"
          ]
        }
      ]
    },
    {
      "cell_type": "code",
      "source": [
        "y_pred=clf_logistic_regression.predict(X_train)\n",
        "dataset=check_diff(X_train,Y_train,y_pred)\n",
        "condition=(dataset['credit_history']=='all credits at this bank paid back duly')|(dataset['purpose']=='Other') | (dataset['duration_in_month']==36)| (dataset['account_check_status']=='<0 DM')\n",
        "print(len(dataset[condition])/len(dataset))\n",
        "dataset[condition]"
      ],
      "metadata": {
        "colab": {
          "base_uri": "https://localhost:8080/",
          "height": 356
        },
        "id": "-Z4B_FVSfX1w",
        "outputId": "ddc01b07-fb05-4a55-a4e4-1798a0f8931a"
      },
      "execution_count": 198,
      "outputs": [
        {
          "output_type": "error",
          "ename": "AttributeError",
          "evalue": "ignored",
          "traceback": [
            "\u001b[0;31m---------------------------------------------------------------------------\u001b[0m",
            "\u001b[0;31mAttributeError\u001b[0m                            Traceback (most recent call last)",
            "\u001b[0;32m<ipython-input-198-d18fd68c0959>\u001b[0m in \u001b[0;36m<cell line: 2>\u001b[0;34m()\u001b[0m\n\u001b[1;32m      1\u001b[0m \u001b[0my_pred\u001b[0m\u001b[0;34m=\u001b[0m\u001b[0mclf_logistic_regression\u001b[0m\u001b[0;34m.\u001b[0m\u001b[0mpredict\u001b[0m\u001b[0;34m(\u001b[0m\u001b[0mX_train\u001b[0m\u001b[0;34m)\u001b[0m\u001b[0;34m\u001b[0m\u001b[0;34m\u001b[0m\u001b[0m\n\u001b[0;32m----> 2\u001b[0;31m \u001b[0mdataset\u001b[0m\u001b[0;34m=\u001b[0m\u001b[0mcheck_diff\u001b[0m\u001b[0;34m(\u001b[0m\u001b[0mX_train\u001b[0m\u001b[0;34m,\u001b[0m\u001b[0mY_train\u001b[0m\u001b[0;34m,\u001b[0m\u001b[0my_pred\u001b[0m\u001b[0;34m)\u001b[0m\u001b[0;34m\u001b[0m\u001b[0;34m\u001b[0m\u001b[0m\n\u001b[0m\u001b[1;32m      3\u001b[0m \u001b[0mcondition\u001b[0m\u001b[0;34m=\u001b[0m\u001b[0;34m(\u001b[0m\u001b[0mdataset\u001b[0m\u001b[0;34m[\u001b[0m\u001b[0;34m'credit_history'\u001b[0m\u001b[0;34m]\u001b[0m\u001b[0;34m==\u001b[0m\u001b[0;34m'all credits at this bank paid back duly'\u001b[0m\u001b[0;34m)\u001b[0m\u001b[0;34m|\u001b[0m\u001b[0;34m(\u001b[0m\u001b[0mdataset\u001b[0m\u001b[0;34m[\u001b[0m\u001b[0;34m'purpose'\u001b[0m\u001b[0;34m]\u001b[0m\u001b[0;34m==\u001b[0m\u001b[0;34m'Other'\u001b[0m\u001b[0;34m)\u001b[0m \u001b[0;34m|\u001b[0m \u001b[0;34m(\u001b[0m\u001b[0mdataset\u001b[0m\u001b[0;34m[\u001b[0m\u001b[0;34m'duration_in_month'\u001b[0m\u001b[0;34m]\u001b[0m\u001b[0;34m==\u001b[0m\u001b[0;36m36\u001b[0m\u001b[0;34m)\u001b[0m\u001b[0;34m|\u001b[0m \u001b[0;34m(\u001b[0m\u001b[0mdataset\u001b[0m\u001b[0;34m[\u001b[0m\u001b[0;34m'account_check_status'\u001b[0m\u001b[0;34m]\u001b[0m\u001b[0;34m==\u001b[0m\u001b[0;34m'<0 DM'\u001b[0m\u001b[0;34m)\u001b[0m\u001b[0;34m\u001b[0m\u001b[0;34m\u001b[0m\u001b[0m\n\u001b[1;32m      4\u001b[0m \u001b[0mprint\u001b[0m\u001b[0;34m(\u001b[0m\u001b[0mlen\u001b[0m\u001b[0;34m(\u001b[0m\u001b[0mdataset\u001b[0m\u001b[0;34m[\u001b[0m\u001b[0mcondition\u001b[0m\u001b[0;34m]\u001b[0m\u001b[0;34m)\u001b[0m\u001b[0;34m/\u001b[0m\u001b[0mlen\u001b[0m\u001b[0;34m(\u001b[0m\u001b[0mdataset\u001b[0m\u001b[0;34m)\u001b[0m\u001b[0;34m)\u001b[0m\u001b[0;34m\u001b[0m\u001b[0;34m\u001b[0m\u001b[0m\n\u001b[1;32m      5\u001b[0m \u001b[0mdataset\u001b[0m\u001b[0;34m[\u001b[0m\u001b[0mcondition\u001b[0m\u001b[0;34m]\u001b[0m\u001b[0;34m\u001b[0m\u001b[0;34m\u001b[0m\u001b[0m\n",
            "\u001b[0;32m<ipython-input-194-e431ebba687d>\u001b[0m in \u001b[0;36mcheck_diff\u001b[0;34m(X_test, y_test, y_predicted)\u001b[0m\n\u001b[1;32m      4\u001b[0m   \u001b[0my_list\u001b[0m\u001b[0;34m=\u001b[0m\u001b[0my_test\u001b[0m\u001b[0;34m.\u001b[0m\u001b[0mtolist\u001b[0m\u001b[0;34m(\u001b[0m\u001b[0;34m)\u001b[0m\u001b[0;34m\u001b[0m\u001b[0;34m\u001b[0m\u001b[0m\n\u001b[1;32m      5\u001b[0m   \u001b[0mX_test\u001b[0m\u001b[0;34m[\u001b[0m\u001b[0;34m\"result\"\u001b[0m\u001b[0;34m]\u001b[0m\u001b[0;34m=\u001b[0m\u001b[0my_list\u001b[0m\u001b[0;34m\u001b[0m\u001b[0;34m\u001b[0m\u001b[0m\n\u001b[0;32m----> 6\u001b[0;31m   \u001b[0;32mfor\u001b[0m \u001b[0mi\u001b[0m\u001b[0;34m,\u001b[0m \u001b[0mrow\u001b[0m \u001b[0;32min\u001b[0m \u001b[0my_test\u001b[0m\u001b[0;34m.\u001b[0m\u001b[0mitems\u001b[0m\u001b[0;34m(\u001b[0m\u001b[0;34m)\u001b[0m\u001b[0;34m:\u001b[0m\u001b[0;34m\u001b[0m\u001b[0;34m\u001b[0m\u001b[0m\n\u001b[0m\u001b[1;32m      7\u001b[0m       \u001b[0;32mif\u001b[0m \u001b[0mrow\u001b[0m\u001b[0;34m!=\u001b[0m\u001b[0my_predicted\u001b[0m\u001b[0;34m[\u001b[0m\u001b[0mi\u001b[0m\u001b[0;34m]\u001b[0m\u001b[0;34m:\u001b[0m\u001b[0;34m\u001b[0m\u001b[0;34m\u001b[0m\u001b[0m\n\u001b[1;32m      8\u001b[0m         \u001b[0mindices\u001b[0m\u001b[0;34m.\u001b[0m\u001b[0mappend\u001b[0m\u001b[0;34m(\u001b[0m\u001b[0mi\u001b[0m\u001b[0;34m)\u001b[0m\u001b[0;34m\u001b[0m\u001b[0;34m\u001b[0m\u001b[0m\n",
            "\u001b[0;31mAttributeError\u001b[0m: 'numpy.ndarray' object has no attribute 'items'"
          ]
        }
      ]
    },
    {
      "cell_type": "code",
      "execution_count": 199,
      "metadata": {
        "pycharm": {
          "name": "#%%\n"
        },
        "id": "lG8JoeRm1M8x",
        "colab": {
          "base_uri": "https://localhost:8080/",
          "height": 345
        },
        "outputId": "801fd26d-e347-4d9e-a4e6-704d3d6b0524"
      },
      "outputs": [
        {
          "output_type": "error",
          "ename": "TypeError",
          "evalue": "ignored",
          "traceback": [
            "\u001b[0;31m---------------------------------------------------------------------------\u001b[0m",
            "\u001b[0;31mTypeError\u001b[0m                                 Traceback (most recent call last)",
            "\u001b[0;32m<ipython-input-199-10203978b251>\u001b[0m in \u001b[0;36m<cell line: 2>\u001b[0;34m()\u001b[0m\n\u001b[1;32m      1\u001b[0m \u001b[0;31m# Prepare data to upload on Giskard\u001b[0m\u001b[0;34m\u001b[0m\u001b[0;34m\u001b[0m\u001b[0m\n\u001b[0;32m----> 2\u001b[0;31m \u001b[0mtrain_data\u001b[0m \u001b[0;34m=\u001b[0m \u001b[0mpd\u001b[0m\u001b[0;34m.\u001b[0m\u001b[0mconcat\u001b[0m\u001b[0;34m(\u001b[0m\u001b[0;34m[\u001b[0m\u001b[0mX_train\u001b[0m\u001b[0;34m,\u001b[0m \u001b[0mY_train\u001b[0m\u001b[0;34m]\u001b[0m\u001b[0;34m,\u001b[0m \u001b[0maxis\u001b[0m\u001b[0;34m=\u001b[0m\u001b[0;36m1\u001b[0m\u001b[0;34m)\u001b[0m\u001b[0;34m\u001b[0m\u001b[0;34m\u001b[0m\u001b[0m\n\u001b[0m\u001b[1;32m      3\u001b[0m \u001b[0mtest_data\u001b[0m \u001b[0;34m=\u001b[0m \u001b[0mpd\u001b[0m\u001b[0;34m.\u001b[0m\u001b[0mconcat\u001b[0m\u001b[0;34m(\u001b[0m\u001b[0;34m[\u001b[0m\u001b[0mX_test\u001b[0m\u001b[0;34m,\u001b[0m \u001b[0mY_test\u001b[0m \u001b[0;34m]\u001b[0m\u001b[0;34m,\u001b[0m \u001b[0maxis\u001b[0m\u001b[0;34m=\u001b[0m\u001b[0;36m1\u001b[0m\u001b[0;34m)\u001b[0m\u001b[0;34m\u001b[0m\u001b[0;34m\u001b[0m\u001b[0m\n",
            "\u001b[0;32m/usr/local/lib/python3.10/dist-packages/pandas/util/_decorators.py\u001b[0m in \u001b[0;36mwrapper\u001b[0;34m(*args, **kwargs)\u001b[0m\n\u001b[1;32m    329\u001b[0m                     \u001b[0mstacklevel\u001b[0m\u001b[0;34m=\u001b[0m\u001b[0mfind_stack_level\u001b[0m\u001b[0;34m(\u001b[0m\u001b[0;34m)\u001b[0m\u001b[0;34m,\u001b[0m\u001b[0;34m\u001b[0m\u001b[0;34m\u001b[0m\u001b[0m\n\u001b[1;32m    330\u001b[0m                 )\n\u001b[0;32m--> 331\u001b[0;31m             \u001b[0;32mreturn\u001b[0m \u001b[0mfunc\u001b[0m\u001b[0;34m(\u001b[0m\u001b[0;34m*\u001b[0m\u001b[0margs\u001b[0m\u001b[0;34m,\u001b[0m \u001b[0;34m**\u001b[0m\u001b[0mkwargs\u001b[0m\u001b[0;34m)\u001b[0m\u001b[0;34m\u001b[0m\u001b[0;34m\u001b[0m\u001b[0m\n\u001b[0m\u001b[1;32m    332\u001b[0m \u001b[0;34m\u001b[0m\u001b[0m\n\u001b[1;32m    333\u001b[0m         \u001b[0;31m# error: \"Callable[[VarArg(Any), KwArg(Any)], Any]\" has no\u001b[0m\u001b[0;34m\u001b[0m\u001b[0;34m\u001b[0m\u001b[0m\n",
            "\u001b[0;32m/usr/local/lib/python3.10/dist-packages/pandas/core/reshape/concat.py\u001b[0m in \u001b[0;36mconcat\u001b[0;34m(objs, axis, join, ignore_index, keys, levels, names, verify_integrity, sort, copy)\u001b[0m\n\u001b[1;32m    366\u001b[0m     \u001b[0;36m1\u001b[0m   \u001b[0;36m3\u001b[0m   \u001b[0;36m4\u001b[0m\u001b[0;34m\u001b[0m\u001b[0;34m\u001b[0m\u001b[0m\n\u001b[1;32m    367\u001b[0m     \"\"\"\n\u001b[0;32m--> 368\u001b[0;31m     op = _Concatenator(\n\u001b[0m\u001b[1;32m    369\u001b[0m         \u001b[0mobjs\u001b[0m\u001b[0;34m,\u001b[0m\u001b[0;34m\u001b[0m\u001b[0;34m\u001b[0m\u001b[0m\n\u001b[1;32m    370\u001b[0m         \u001b[0maxis\u001b[0m\u001b[0;34m=\u001b[0m\u001b[0maxis\u001b[0m\u001b[0;34m,\u001b[0m\u001b[0;34m\u001b[0m\u001b[0;34m\u001b[0m\u001b[0m\n",
            "\u001b[0;32m/usr/local/lib/python3.10/dist-packages/pandas/core/reshape/concat.py\u001b[0m in \u001b[0;36m__init__\u001b[0;34m(self, objs, axis, join, keys, levels, names, ignore_index, verify_integrity, copy, sort)\u001b[0m\n\u001b[1;32m    456\u001b[0m                     \u001b[0;34m\"only Series and DataFrame objs are valid\"\u001b[0m\u001b[0;34m\u001b[0m\u001b[0;34m\u001b[0m\u001b[0m\n\u001b[1;32m    457\u001b[0m                 )\n\u001b[0;32m--> 458\u001b[0;31m                 \u001b[0;32mraise\u001b[0m \u001b[0mTypeError\u001b[0m\u001b[0;34m(\u001b[0m\u001b[0mmsg\u001b[0m\u001b[0;34m)\u001b[0m\u001b[0;34m\u001b[0m\u001b[0;34m\u001b[0m\u001b[0m\n\u001b[0m\u001b[1;32m    459\u001b[0m \u001b[0;34m\u001b[0m\u001b[0m\n\u001b[1;32m    460\u001b[0m             \u001b[0mndims\u001b[0m\u001b[0;34m.\u001b[0m\u001b[0madd\u001b[0m\u001b[0;34m(\u001b[0m\u001b[0mobj\u001b[0m\u001b[0;34m.\u001b[0m\u001b[0mndim\u001b[0m\u001b[0;34m)\u001b[0m\u001b[0;34m\u001b[0m\u001b[0;34m\u001b[0m\u001b[0m\n",
            "\u001b[0;31mTypeError\u001b[0m: cannot concatenate object of type '<class 'numpy.ndarray'>'; only Series and DataFrame objs are valid"
          ]
        }
      ],
      "source": [
        "# Prepare data to upload on Giskard\n",
        "train_data = pd.concat([X_train, Y_train], axis=1)\n",
        "test_data = pd.concat([X_test, Y_test ], axis=1)"
      ]
    },
    {
      "cell_type": "markdown",
      "metadata": {
        "pycharm": {
          "name": "#%% md\n"
        },
        "id": "xytZaAoA1M8y"
      },
      "source": [
        "# Upload the model in Giskard 🚀🚀🚀"
      ]
    },
    {
      "cell_type": "markdown",
      "metadata": {
        "pycharm": {
          "name": "#%% md\n"
        },
        "id": "tP5s7we31M80"
      },
      "source": [
        "### Initiate a project"
      ]
    },
    {
      "cell_type": "code",
      "execution_count": 203,
      "metadata": {
        "pycharm": {
          "name": "#%%\n"
        },
        "colab": {
          "base_uri": "https://localhost:8080/",
          "height": 1000
        },
        "id": "iqefZOlP1M81",
        "outputId": "3bde602a-3428-42a4-e652-edb1fe630663"
      },
      "outputs": [
        {
          "output_type": "stream",
          "name": "stderr",
          "text": [
            "WARNING:giskard.client.giskard_client:Failed to fetch server settings\n",
            "Traceback (most recent call last):\n",
            "  File \"/usr/local/lib/python3.10/dist-packages/urllib3/connection.py\", line 174, in _new_conn\n",
            "    conn = connection.create_connection(\n",
            "  File \"/usr/local/lib/python3.10/dist-packages/urllib3/util/connection.py\", line 95, in create_connection\n",
            "    raise err\n",
            "  File \"/usr/local/lib/python3.10/dist-packages/urllib3/util/connection.py\", line 85, in create_connection\n",
            "    sock.connect(sa)\n",
            "ConnectionRefusedError: [Errno 111] Connection refused\n",
            "\n",
            "During handling of the above exception, another exception occurred:\n",
            "\n",
            "Traceback (most recent call last):\n",
            "  File \"/usr/local/lib/python3.10/dist-packages/urllib3/connectionpool.py\", line 703, in urlopen\n",
            "    httplib_response = self._make_request(\n",
            "  File \"/usr/local/lib/python3.10/dist-packages/urllib3/connectionpool.py\", line 398, in _make_request\n",
            "    conn.request(method, url, **httplib_request_kw)\n",
            "  File \"/usr/local/lib/python3.10/dist-packages/urllib3/connection.py\", line 244, in request\n",
            "    super(HTTPConnection, self).request(method, url, body=body, headers=headers)\n",
            "  File \"/usr/lib/python3.10/http/client.py\", line 1283, in request\n",
            "    self._send_request(method, url, body, headers, encode_chunked)\n",
            "  File \"/usr/lib/python3.10/http/client.py\", line 1329, in _send_request\n",
            "    self.endheaders(body, encode_chunked=encode_chunked)\n",
            "  File \"/usr/lib/python3.10/http/client.py\", line 1278, in endheaders\n",
            "    self._send_output(message_body, encode_chunked=encode_chunked)\n",
            "  File \"/usr/lib/python3.10/http/client.py\", line 1038, in _send_output\n",
            "    self.send(msg)\n",
            "  File \"/usr/lib/python3.10/http/client.py\", line 976, in send\n",
            "    self.connect()\n",
            "  File \"/usr/local/lib/python3.10/dist-packages/urllib3/connection.py\", line 205, in connect\n",
            "    conn = self._new_conn()\n",
            "  File \"/usr/local/lib/python3.10/dist-packages/urllib3/connection.py\", line 186, in _new_conn\n",
            "    raise NewConnectionError(\n",
            "urllib3.exceptions.NewConnectionError: <urllib3.connection.HTTPConnection object at 0x7f72bb04d5d0>: Failed to establish a new connection: [Errno 111] Connection refused\n",
            "\n",
            "During handling of the above exception, another exception occurred:\n",
            "\n",
            "Traceback (most recent call last):\n",
            "  File \"/usr/local/lib/python3.10/dist-packages/requests/adapters.py\", line 486, in send\n",
            "    resp = conn.urlopen(\n",
            "  File \"/usr/local/lib/python3.10/dist-packages/urllib3/connectionpool.py\", line 787, in urlopen\n",
            "    retries = retries.increment(\n",
            "  File \"/usr/local/lib/python3.10/dist-packages/urllib3/util/retry.py\", line 592, in increment\n",
            "    raise MaxRetryError(_pool, url, error or ResponseError(cause))\n",
            "urllib3.exceptions.MaxRetryError: HTTPConnectionPool(host='localhost', port=19000): Max retries exceeded with url: /api/v2/settings (Caused by NewConnectionError('<urllib3.connection.HTTPConnection object at 0x7f72bb04d5d0>: Failed to establish a new connection: [Errno 111] Connection refused'))\n",
            "\n",
            "During handling of the above exception, another exception occurred:\n",
            "\n",
            "Traceback (most recent call last):\n",
            "  File \"/usr/local/lib/python3.10/dist-packages/giskard/client/giskard_client.py\", line 74, in __init__\n",
            "    server_settings = self._session.get(\"settings\").json()\n",
            "  File \"/usr/local/lib/python3.10/dist-packages/requests/sessions.py\", line 600, in get\n",
            "    return self.request(\"GET\", url, **kwargs)\n",
            "  File \"/usr/local/lib/python3.10/dist-packages/requests_toolbelt/sessions.py\", line 64, in request\n",
            "    return super(BaseUrlSession, self).request(\n",
            "  File \"/usr/local/lib/python3.10/dist-packages/requests/sessions.py\", line 587, in request\n",
            "    resp = self.send(prep, **send_kwargs)\n",
            "  File \"/usr/local/lib/python3.10/dist-packages/requests/sessions.py\", line 701, in send\n",
            "    r = adapter.send(request, **kwargs)\n",
            "  File \"/usr/local/lib/python3.10/dist-packages/requests/adapters.py\", line 519, in send\n",
            "    raise ConnectionError(e, request=request)\n",
            "requests.exceptions.ConnectionError: HTTPConnectionPool(host='localhost', port=19000): Max retries exceeded with url: /api/v2/settings (Caused by NewConnectionError('<urllib3.connection.HTTPConnection object at 0x7f72bb04d5d0>: Failed to establish a new connection: [Errno 111] Connection refused'))\n"
          ]
        },
        {
          "output_type": "error",
          "ename": "ConnectionError",
          "evalue": "ignored",
          "traceback": [
            "\u001b[0;31m---------------------------------------------------------------------------\u001b[0m",
            "\u001b[0;31mConnectionRefusedError\u001b[0m                    Traceback (most recent call last)",
            "\u001b[0;32m/usr/local/lib/python3.10/dist-packages/urllib3/connection.py\u001b[0m in \u001b[0;36m_new_conn\u001b[0;34m(self)\u001b[0m\n\u001b[1;32m    173\u001b[0m         \u001b[0;32mtry\u001b[0m\u001b[0;34m:\u001b[0m\u001b[0;34m\u001b[0m\u001b[0;34m\u001b[0m\u001b[0m\n\u001b[0;32m--> 174\u001b[0;31m             conn = connection.create_connection(\n\u001b[0m\u001b[1;32m    175\u001b[0m                 \u001b[0;34m(\u001b[0m\u001b[0mself\u001b[0m\u001b[0;34m.\u001b[0m\u001b[0m_dns_host\u001b[0m\u001b[0;34m,\u001b[0m \u001b[0mself\u001b[0m\u001b[0;34m.\u001b[0m\u001b[0mport\u001b[0m\u001b[0;34m)\u001b[0m\u001b[0;34m,\u001b[0m \u001b[0mself\u001b[0m\u001b[0;34m.\u001b[0m\u001b[0mtimeout\u001b[0m\u001b[0;34m,\u001b[0m \u001b[0;34m**\u001b[0m\u001b[0mextra_kw\u001b[0m\u001b[0;34m\u001b[0m\u001b[0;34m\u001b[0m\u001b[0m\n",
            "\u001b[0;32m/usr/local/lib/python3.10/dist-packages/urllib3/util/connection.py\u001b[0m in \u001b[0;36mcreate_connection\u001b[0;34m(address, timeout, source_address, socket_options)\u001b[0m\n\u001b[1;32m     94\u001b[0m     \u001b[0;32mif\u001b[0m \u001b[0merr\u001b[0m \u001b[0;32mis\u001b[0m \u001b[0;32mnot\u001b[0m \u001b[0;32mNone\u001b[0m\u001b[0;34m:\u001b[0m\u001b[0;34m\u001b[0m\u001b[0;34m\u001b[0m\u001b[0m\n\u001b[0;32m---> 95\u001b[0;31m         \u001b[0;32mraise\u001b[0m \u001b[0merr\u001b[0m\u001b[0;34m\u001b[0m\u001b[0;34m\u001b[0m\u001b[0m\n\u001b[0m\u001b[1;32m     96\u001b[0m \u001b[0;34m\u001b[0m\u001b[0m\n",
            "\u001b[0;32m/usr/local/lib/python3.10/dist-packages/urllib3/util/connection.py\u001b[0m in \u001b[0;36mcreate_connection\u001b[0;34m(address, timeout, source_address, socket_options)\u001b[0m\n\u001b[1;32m     84\u001b[0m                 \u001b[0msock\u001b[0m\u001b[0;34m.\u001b[0m\u001b[0mbind\u001b[0m\u001b[0;34m(\u001b[0m\u001b[0msource_address\u001b[0m\u001b[0;34m)\u001b[0m\u001b[0;34m\u001b[0m\u001b[0;34m\u001b[0m\u001b[0m\n\u001b[0;32m---> 85\u001b[0;31m             \u001b[0msock\u001b[0m\u001b[0;34m.\u001b[0m\u001b[0mconnect\u001b[0m\u001b[0;34m(\u001b[0m\u001b[0msa\u001b[0m\u001b[0;34m)\u001b[0m\u001b[0;34m\u001b[0m\u001b[0;34m\u001b[0m\u001b[0m\n\u001b[0m\u001b[1;32m     86\u001b[0m             \u001b[0;32mreturn\u001b[0m \u001b[0msock\u001b[0m\u001b[0;34m\u001b[0m\u001b[0;34m\u001b[0m\u001b[0m\n",
            "\u001b[0;31mConnectionRefusedError\u001b[0m: [Errno 111] Connection refused",
            "\nDuring handling of the above exception, another exception occurred:\n",
            "\u001b[0;31mNewConnectionError\u001b[0m                        Traceback (most recent call last)",
            "\u001b[0;32m/usr/local/lib/python3.10/dist-packages/urllib3/connectionpool.py\u001b[0m in \u001b[0;36murlopen\u001b[0;34m(self, method, url, body, headers, retries, redirect, assert_same_host, timeout, pool_timeout, release_conn, chunked, body_pos, **response_kw)\u001b[0m\n\u001b[1;32m    702\u001b[0m             \u001b[0;31m# Make the request on the httplib connection object.\u001b[0m\u001b[0;34m\u001b[0m\u001b[0;34m\u001b[0m\u001b[0m\n\u001b[0;32m--> 703\u001b[0;31m             httplib_response = self._make_request(\n\u001b[0m\u001b[1;32m    704\u001b[0m                 \u001b[0mconn\u001b[0m\u001b[0;34m,\u001b[0m\u001b[0;34m\u001b[0m\u001b[0;34m\u001b[0m\u001b[0m\n",
            "\u001b[0;32m/usr/local/lib/python3.10/dist-packages/urllib3/connectionpool.py\u001b[0m in \u001b[0;36m_make_request\u001b[0;34m(self, conn, method, url, timeout, chunked, **httplib_request_kw)\u001b[0m\n\u001b[1;32m    397\u001b[0m             \u001b[0;32melse\u001b[0m\u001b[0;34m:\u001b[0m\u001b[0;34m\u001b[0m\u001b[0;34m\u001b[0m\u001b[0m\n\u001b[0;32m--> 398\u001b[0;31m                 \u001b[0mconn\u001b[0m\u001b[0;34m.\u001b[0m\u001b[0mrequest\u001b[0m\u001b[0;34m(\u001b[0m\u001b[0mmethod\u001b[0m\u001b[0;34m,\u001b[0m \u001b[0murl\u001b[0m\u001b[0;34m,\u001b[0m \u001b[0;34m**\u001b[0m\u001b[0mhttplib_request_kw\u001b[0m\u001b[0;34m)\u001b[0m\u001b[0;34m\u001b[0m\u001b[0;34m\u001b[0m\u001b[0m\n\u001b[0m\u001b[1;32m    399\u001b[0m \u001b[0;34m\u001b[0m\u001b[0m\n",
            "\u001b[0;32m/usr/local/lib/python3.10/dist-packages/urllib3/connection.py\u001b[0m in \u001b[0;36mrequest\u001b[0;34m(self, method, url, body, headers)\u001b[0m\n\u001b[1;32m    243\u001b[0m             \u001b[0mheaders\u001b[0m\u001b[0;34m[\u001b[0m\u001b[0;34m\"User-Agent\"\u001b[0m\u001b[0;34m]\u001b[0m \u001b[0;34m=\u001b[0m \u001b[0m_get_default_user_agent\u001b[0m\u001b[0;34m(\u001b[0m\u001b[0;34m)\u001b[0m\u001b[0;34m\u001b[0m\u001b[0;34m\u001b[0m\u001b[0m\n\u001b[0;32m--> 244\u001b[0;31m         \u001b[0msuper\u001b[0m\u001b[0;34m(\u001b[0m\u001b[0mHTTPConnection\u001b[0m\u001b[0;34m,\u001b[0m \u001b[0mself\u001b[0m\u001b[0;34m)\u001b[0m\u001b[0;34m.\u001b[0m\u001b[0mrequest\u001b[0m\u001b[0;34m(\u001b[0m\u001b[0mmethod\u001b[0m\u001b[0;34m,\u001b[0m \u001b[0murl\u001b[0m\u001b[0;34m,\u001b[0m \u001b[0mbody\u001b[0m\u001b[0;34m=\u001b[0m\u001b[0mbody\u001b[0m\u001b[0;34m,\u001b[0m \u001b[0mheaders\u001b[0m\u001b[0;34m=\u001b[0m\u001b[0mheaders\u001b[0m\u001b[0;34m)\u001b[0m\u001b[0;34m\u001b[0m\u001b[0;34m\u001b[0m\u001b[0m\n\u001b[0m\u001b[1;32m    245\u001b[0m \u001b[0;34m\u001b[0m\u001b[0m\n",
            "\u001b[0;32m/usr/lib/python3.10/http/client.py\u001b[0m in \u001b[0;36mrequest\u001b[0;34m(self, method, url, body, headers, encode_chunked)\u001b[0m\n\u001b[1;32m   1282\u001b[0m         \u001b[0;34m\"\"\"Send a complete request to the server.\"\"\"\u001b[0m\u001b[0;34m\u001b[0m\u001b[0;34m\u001b[0m\u001b[0m\n\u001b[0;32m-> 1283\u001b[0;31m         \u001b[0mself\u001b[0m\u001b[0;34m.\u001b[0m\u001b[0m_send_request\u001b[0m\u001b[0;34m(\u001b[0m\u001b[0mmethod\u001b[0m\u001b[0;34m,\u001b[0m \u001b[0murl\u001b[0m\u001b[0;34m,\u001b[0m \u001b[0mbody\u001b[0m\u001b[0;34m,\u001b[0m \u001b[0mheaders\u001b[0m\u001b[0;34m,\u001b[0m \u001b[0mencode_chunked\u001b[0m\u001b[0;34m)\u001b[0m\u001b[0;34m\u001b[0m\u001b[0;34m\u001b[0m\u001b[0m\n\u001b[0m\u001b[1;32m   1284\u001b[0m \u001b[0;34m\u001b[0m\u001b[0m\n",
            "\u001b[0;32m/usr/lib/python3.10/http/client.py\u001b[0m in \u001b[0;36m_send_request\u001b[0;34m(self, method, url, body, headers, encode_chunked)\u001b[0m\n\u001b[1;32m   1328\u001b[0m             \u001b[0mbody\u001b[0m \u001b[0;34m=\u001b[0m \u001b[0m_encode\u001b[0m\u001b[0;34m(\u001b[0m\u001b[0mbody\u001b[0m\u001b[0;34m,\u001b[0m \u001b[0;34m'body'\u001b[0m\u001b[0;34m)\u001b[0m\u001b[0;34m\u001b[0m\u001b[0;34m\u001b[0m\u001b[0m\n\u001b[0;32m-> 1329\u001b[0;31m         \u001b[0mself\u001b[0m\u001b[0;34m.\u001b[0m\u001b[0mendheaders\u001b[0m\u001b[0;34m(\u001b[0m\u001b[0mbody\u001b[0m\u001b[0;34m,\u001b[0m \u001b[0mencode_chunked\u001b[0m\u001b[0;34m=\u001b[0m\u001b[0mencode_chunked\u001b[0m\u001b[0;34m)\u001b[0m\u001b[0;34m\u001b[0m\u001b[0;34m\u001b[0m\u001b[0m\n\u001b[0m\u001b[1;32m   1330\u001b[0m \u001b[0;34m\u001b[0m\u001b[0m\n",
            "\u001b[0;32m/usr/lib/python3.10/http/client.py\u001b[0m in \u001b[0;36mendheaders\u001b[0;34m(self, message_body, encode_chunked)\u001b[0m\n\u001b[1;32m   1277\u001b[0m             \u001b[0;32mraise\u001b[0m \u001b[0mCannotSendHeader\u001b[0m\u001b[0;34m(\u001b[0m\u001b[0;34m)\u001b[0m\u001b[0;34m\u001b[0m\u001b[0;34m\u001b[0m\u001b[0m\n\u001b[0;32m-> 1278\u001b[0;31m         \u001b[0mself\u001b[0m\u001b[0;34m.\u001b[0m\u001b[0m_send_output\u001b[0m\u001b[0;34m(\u001b[0m\u001b[0mmessage_body\u001b[0m\u001b[0;34m,\u001b[0m \u001b[0mencode_chunked\u001b[0m\u001b[0;34m=\u001b[0m\u001b[0mencode_chunked\u001b[0m\u001b[0;34m)\u001b[0m\u001b[0;34m\u001b[0m\u001b[0;34m\u001b[0m\u001b[0m\n\u001b[0m\u001b[1;32m   1279\u001b[0m \u001b[0;34m\u001b[0m\u001b[0m\n",
            "\u001b[0;32m/usr/lib/python3.10/http/client.py\u001b[0m in \u001b[0;36m_send_output\u001b[0;34m(self, message_body, encode_chunked)\u001b[0m\n\u001b[1;32m   1037\u001b[0m         \u001b[0;32mdel\u001b[0m \u001b[0mself\u001b[0m\u001b[0;34m.\u001b[0m\u001b[0m_buffer\u001b[0m\u001b[0;34m[\u001b[0m\u001b[0;34m:\u001b[0m\u001b[0;34m]\u001b[0m\u001b[0;34m\u001b[0m\u001b[0;34m\u001b[0m\u001b[0m\n\u001b[0;32m-> 1038\u001b[0;31m         \u001b[0mself\u001b[0m\u001b[0;34m.\u001b[0m\u001b[0msend\u001b[0m\u001b[0;34m(\u001b[0m\u001b[0mmsg\u001b[0m\u001b[0;34m)\u001b[0m\u001b[0;34m\u001b[0m\u001b[0;34m\u001b[0m\u001b[0m\n\u001b[0m\u001b[1;32m   1039\u001b[0m \u001b[0;34m\u001b[0m\u001b[0m\n",
            "\u001b[0;32m/usr/lib/python3.10/http/client.py\u001b[0m in \u001b[0;36msend\u001b[0;34m(self, data)\u001b[0m\n\u001b[1;32m    975\u001b[0m             \u001b[0;32mif\u001b[0m \u001b[0mself\u001b[0m\u001b[0;34m.\u001b[0m\u001b[0mauto_open\u001b[0m\u001b[0;34m:\u001b[0m\u001b[0;34m\u001b[0m\u001b[0;34m\u001b[0m\u001b[0m\n\u001b[0;32m--> 976\u001b[0;31m                 \u001b[0mself\u001b[0m\u001b[0;34m.\u001b[0m\u001b[0mconnect\u001b[0m\u001b[0;34m(\u001b[0m\u001b[0;34m)\u001b[0m\u001b[0;34m\u001b[0m\u001b[0;34m\u001b[0m\u001b[0m\n\u001b[0m\u001b[1;32m    977\u001b[0m             \u001b[0;32melse\u001b[0m\u001b[0;34m:\u001b[0m\u001b[0;34m\u001b[0m\u001b[0;34m\u001b[0m\u001b[0m\n",
            "\u001b[0;32m/usr/local/lib/python3.10/dist-packages/urllib3/connection.py\u001b[0m in \u001b[0;36mconnect\u001b[0;34m(self)\u001b[0m\n\u001b[1;32m    204\u001b[0m     \u001b[0;32mdef\u001b[0m \u001b[0mconnect\u001b[0m\u001b[0;34m(\u001b[0m\u001b[0mself\u001b[0m\u001b[0;34m)\u001b[0m\u001b[0;34m:\u001b[0m\u001b[0;34m\u001b[0m\u001b[0;34m\u001b[0m\u001b[0m\n\u001b[0;32m--> 205\u001b[0;31m         \u001b[0mconn\u001b[0m \u001b[0;34m=\u001b[0m \u001b[0mself\u001b[0m\u001b[0;34m.\u001b[0m\u001b[0m_new_conn\u001b[0m\u001b[0;34m(\u001b[0m\u001b[0;34m)\u001b[0m\u001b[0;34m\u001b[0m\u001b[0;34m\u001b[0m\u001b[0m\n\u001b[0m\u001b[1;32m    206\u001b[0m         \u001b[0mself\u001b[0m\u001b[0;34m.\u001b[0m\u001b[0m_prepare_conn\u001b[0m\u001b[0;34m(\u001b[0m\u001b[0mconn\u001b[0m\u001b[0;34m)\u001b[0m\u001b[0;34m\u001b[0m\u001b[0;34m\u001b[0m\u001b[0m\n",
            "\u001b[0;32m/usr/local/lib/python3.10/dist-packages/urllib3/connection.py\u001b[0m in \u001b[0;36m_new_conn\u001b[0;34m(self)\u001b[0m\n\u001b[1;32m    185\u001b[0m         \u001b[0;32mexcept\u001b[0m \u001b[0mSocketError\u001b[0m \u001b[0;32mas\u001b[0m \u001b[0me\u001b[0m\u001b[0;34m:\u001b[0m\u001b[0;34m\u001b[0m\u001b[0;34m\u001b[0m\u001b[0m\n\u001b[0;32m--> 186\u001b[0;31m             raise NewConnectionError(\n\u001b[0m\u001b[1;32m    187\u001b[0m                 \u001b[0mself\u001b[0m\u001b[0;34m,\u001b[0m \u001b[0;34m\"Failed to establish a new connection: %s\"\u001b[0m \u001b[0;34m%\u001b[0m \u001b[0me\u001b[0m\u001b[0;34m\u001b[0m\u001b[0;34m\u001b[0m\u001b[0m\n",
            "\u001b[0;31mNewConnectionError\u001b[0m: <urllib3.connection.HTTPConnection object at 0x7f72bb04d2d0>: Failed to establish a new connection: [Errno 111] Connection refused",
            "\nDuring handling of the above exception, another exception occurred:\n",
            "\u001b[0;31mMaxRetryError\u001b[0m                             Traceback (most recent call last)",
            "\u001b[0;32m/usr/local/lib/python3.10/dist-packages/requests/adapters.py\u001b[0m in \u001b[0;36msend\u001b[0;34m(self, request, stream, timeout, verify, cert, proxies)\u001b[0m\n\u001b[1;32m    485\u001b[0m         \u001b[0;32mtry\u001b[0m\u001b[0;34m:\u001b[0m\u001b[0;34m\u001b[0m\u001b[0;34m\u001b[0m\u001b[0m\n\u001b[0;32m--> 486\u001b[0;31m             resp = conn.urlopen(\n\u001b[0m\u001b[1;32m    487\u001b[0m                 \u001b[0mmethod\u001b[0m\u001b[0;34m=\u001b[0m\u001b[0mrequest\u001b[0m\u001b[0;34m.\u001b[0m\u001b[0mmethod\u001b[0m\u001b[0;34m,\u001b[0m\u001b[0;34m\u001b[0m\u001b[0;34m\u001b[0m\u001b[0m\n",
            "\u001b[0;32m/usr/local/lib/python3.10/dist-packages/urllib3/connectionpool.py\u001b[0m in \u001b[0;36murlopen\u001b[0;34m(self, method, url, body, headers, retries, redirect, assert_same_host, timeout, pool_timeout, release_conn, chunked, body_pos, **response_kw)\u001b[0m\n\u001b[1;32m    786\u001b[0m \u001b[0;34m\u001b[0m\u001b[0m\n\u001b[0;32m--> 787\u001b[0;31m             retries = retries.increment(\n\u001b[0m\u001b[1;32m    788\u001b[0m                 \u001b[0mmethod\u001b[0m\u001b[0;34m,\u001b[0m \u001b[0murl\u001b[0m\u001b[0;34m,\u001b[0m \u001b[0merror\u001b[0m\u001b[0;34m=\u001b[0m\u001b[0me\u001b[0m\u001b[0;34m,\u001b[0m \u001b[0m_pool\u001b[0m\u001b[0;34m=\u001b[0m\u001b[0mself\u001b[0m\u001b[0;34m,\u001b[0m \u001b[0m_stacktrace\u001b[0m\u001b[0;34m=\u001b[0m\u001b[0msys\u001b[0m\u001b[0;34m.\u001b[0m\u001b[0mexc_info\u001b[0m\u001b[0;34m(\u001b[0m\u001b[0;34m)\u001b[0m\u001b[0;34m[\u001b[0m\u001b[0;36m2\u001b[0m\u001b[0;34m]\u001b[0m\u001b[0;34m\u001b[0m\u001b[0;34m\u001b[0m\u001b[0m\n",
            "\u001b[0;32m/usr/local/lib/python3.10/dist-packages/urllib3/util/retry.py\u001b[0m in \u001b[0;36mincrement\u001b[0;34m(self, method, url, response, error, _pool, _stacktrace)\u001b[0m\n\u001b[1;32m    591\u001b[0m         \u001b[0;32mif\u001b[0m \u001b[0mnew_retry\u001b[0m\u001b[0;34m.\u001b[0m\u001b[0mis_exhausted\u001b[0m\u001b[0;34m(\u001b[0m\u001b[0;34m)\u001b[0m\u001b[0;34m:\u001b[0m\u001b[0;34m\u001b[0m\u001b[0;34m\u001b[0m\u001b[0m\n\u001b[0;32m--> 592\u001b[0;31m             \u001b[0;32mraise\u001b[0m \u001b[0mMaxRetryError\u001b[0m\u001b[0;34m(\u001b[0m\u001b[0m_pool\u001b[0m\u001b[0;34m,\u001b[0m \u001b[0murl\u001b[0m\u001b[0;34m,\u001b[0m \u001b[0merror\u001b[0m \u001b[0;32mor\u001b[0m \u001b[0mResponseError\u001b[0m\u001b[0;34m(\u001b[0m\u001b[0mcause\u001b[0m\u001b[0;34m)\u001b[0m\u001b[0;34m)\u001b[0m\u001b[0;34m\u001b[0m\u001b[0;34m\u001b[0m\u001b[0m\n\u001b[0m\u001b[1;32m    593\u001b[0m \u001b[0;34m\u001b[0m\u001b[0m\n",
            "\u001b[0;31mMaxRetryError\u001b[0m: HTTPConnectionPool(host='localhost', port=19000): Max retries exceeded with url: /api/v2/project (Caused by NewConnectionError('<urllib3.connection.HTTPConnection object at 0x7f72bb04d2d0>: Failed to establish a new connection: [Errno 111] Connection refused'))",
            "\nDuring handling of the above exception, another exception occurred:\n",
            "\u001b[0;31mConnectionError\u001b[0m                           Traceback (most recent call last)",
            "\u001b[0;32m<ipython-input-203-9e4aaefded0f>\u001b[0m in \u001b[0;36m<cell line: 11>\u001b[0;34m()\u001b[0m\n\u001b[1;32m      9\u001b[0m \u001b[0;31m# your_project = client.create_project(\"project_key\", \"PROJECT_NAME\", \"DESCRIPTION\")\u001b[0m\u001b[0;34m\u001b[0m\u001b[0;34m\u001b[0m\u001b[0m\n\u001b[1;32m     10\u001b[0m \u001b[0;31m# Choose the arguments you want. But \"project_key\" should be unique and in lower case\u001b[0m\u001b[0;34m\u001b[0m\u001b[0;34m\u001b[0m\u001b[0m\n\u001b[0;32m---> 11\u001b[0;31m \u001b[0mcredit_scoring\u001b[0m \u001b[0;34m=\u001b[0m \u001b[0mclient\u001b[0m\u001b[0;34m.\u001b[0m\u001b[0mcreate_project\u001b[0m\u001b[0;34m(\u001b[0m\u001b[0;34m\"credit_scoring\"\u001b[0m\u001b[0;34m,\u001b[0m \u001b[0;34m\"German Credit Scoring\"\u001b[0m\u001b[0;34m,\u001b[0m \u001b[0;34m\"Project to predict if user will default\"\u001b[0m\u001b[0;34m)\u001b[0m\u001b[0;34m\u001b[0m\u001b[0;34m\u001b[0m\u001b[0m\n\u001b[0m\u001b[1;32m     12\u001b[0m \u001b[0;34m\u001b[0m\u001b[0m\n\u001b[1;32m     13\u001b[0m \u001b[0;31m# If you've already created a project with the key \"credit-scoring\" use\u001b[0m\u001b[0;34m\u001b[0m\u001b[0;34m\u001b[0m\u001b[0m\n",
            "\u001b[0;32m/usr/local/lib/python3.10/dist-packages/giskard/client/giskard_client.py\u001b[0m in \u001b[0;36mcreate_project\u001b[0;34m(self, project_key, name, description)\u001b[0m\n\u001b[1;32m    129\u001b[0m         )\n\u001b[1;32m    130\u001b[0m         \u001b[0;32mtry\u001b[0m\u001b[0;34m:\u001b[0m\u001b[0;34m\u001b[0m\u001b[0;34m\u001b[0m\u001b[0m\n\u001b[0;32m--> 131\u001b[0;31m             response = self._session.post(\n\u001b[0m\u001b[1;32m    132\u001b[0m                 \u001b[0;34m\"project\"\u001b[0m\u001b[0;34m,\u001b[0m \u001b[0mjson\u001b[0m\u001b[0;34m=\u001b[0m\u001b[0;34m{\u001b[0m\u001b[0;34m\"description\"\u001b[0m\u001b[0;34m:\u001b[0m \u001b[0mdescription\u001b[0m\u001b[0;34m,\u001b[0m \u001b[0;34m\"key\"\u001b[0m\u001b[0;34m:\u001b[0m \u001b[0mproject_key\u001b[0m\u001b[0;34m,\u001b[0m \u001b[0;34m\"name\"\u001b[0m\u001b[0;34m:\u001b[0m \u001b[0mname\u001b[0m\u001b[0;34m}\u001b[0m\u001b[0;34m\u001b[0m\u001b[0;34m\u001b[0m\u001b[0m\n\u001b[1;32m    133\u001b[0m             ).json()\n",
            "\u001b[0;32m/usr/local/lib/python3.10/dist-packages/requests/sessions.py\u001b[0m in \u001b[0;36mpost\u001b[0;34m(self, url, data, json, **kwargs)\u001b[0m\n\u001b[1;32m    633\u001b[0m         \"\"\"\n\u001b[1;32m    634\u001b[0m \u001b[0;34m\u001b[0m\u001b[0m\n\u001b[0;32m--> 635\u001b[0;31m         \u001b[0;32mreturn\u001b[0m \u001b[0mself\u001b[0m\u001b[0;34m.\u001b[0m\u001b[0mrequest\u001b[0m\u001b[0;34m(\u001b[0m\u001b[0;34m\"POST\"\u001b[0m\u001b[0;34m,\u001b[0m \u001b[0murl\u001b[0m\u001b[0;34m,\u001b[0m \u001b[0mdata\u001b[0m\u001b[0;34m=\u001b[0m\u001b[0mdata\u001b[0m\u001b[0;34m,\u001b[0m \u001b[0mjson\u001b[0m\u001b[0;34m=\u001b[0m\u001b[0mjson\u001b[0m\u001b[0;34m,\u001b[0m \u001b[0;34m**\u001b[0m\u001b[0mkwargs\u001b[0m\u001b[0;34m)\u001b[0m\u001b[0;34m\u001b[0m\u001b[0;34m\u001b[0m\u001b[0m\n\u001b[0m\u001b[1;32m    636\u001b[0m \u001b[0;34m\u001b[0m\u001b[0m\n\u001b[1;32m    637\u001b[0m     \u001b[0;32mdef\u001b[0m \u001b[0mput\u001b[0m\u001b[0;34m(\u001b[0m\u001b[0mself\u001b[0m\u001b[0;34m,\u001b[0m \u001b[0murl\u001b[0m\u001b[0;34m,\u001b[0m \u001b[0mdata\u001b[0m\u001b[0;34m=\u001b[0m\u001b[0;32mNone\u001b[0m\u001b[0;34m,\u001b[0m \u001b[0;34m**\u001b[0m\u001b[0mkwargs\u001b[0m\u001b[0;34m)\u001b[0m\u001b[0;34m:\u001b[0m\u001b[0;34m\u001b[0m\u001b[0;34m\u001b[0m\u001b[0m\n",
            "\u001b[0;32m/usr/local/lib/python3.10/dist-packages/requests_toolbelt/sessions.py\u001b[0m in \u001b[0;36mrequest\u001b[0;34m(self, method, url, *args, **kwargs)\u001b[0m\n\u001b[1;32m     62\u001b[0m         \u001b[0;34m\"\"\"Send the request after generating the complete URL.\"\"\"\u001b[0m\u001b[0;34m\u001b[0m\u001b[0;34m\u001b[0m\u001b[0m\n\u001b[1;32m     63\u001b[0m         \u001b[0murl\u001b[0m \u001b[0;34m=\u001b[0m \u001b[0mself\u001b[0m\u001b[0;34m.\u001b[0m\u001b[0mcreate_url\u001b[0m\u001b[0;34m(\u001b[0m\u001b[0murl\u001b[0m\u001b[0;34m)\u001b[0m\u001b[0;34m\u001b[0m\u001b[0;34m\u001b[0m\u001b[0m\n\u001b[0;32m---> 64\u001b[0;31m         return super(BaseUrlSession, self).request(\n\u001b[0m\u001b[1;32m     65\u001b[0m             \u001b[0mmethod\u001b[0m\u001b[0;34m,\u001b[0m \u001b[0murl\u001b[0m\u001b[0;34m,\u001b[0m \u001b[0;34m*\u001b[0m\u001b[0margs\u001b[0m\u001b[0;34m,\u001b[0m \u001b[0;34m**\u001b[0m\u001b[0mkwargs\u001b[0m\u001b[0;34m\u001b[0m\u001b[0;34m\u001b[0m\u001b[0m\n\u001b[1;32m     66\u001b[0m         )\n",
            "\u001b[0;32m/usr/local/lib/python3.10/dist-packages/requests/sessions.py\u001b[0m in \u001b[0;36mrequest\u001b[0;34m(self, method, url, params, data, headers, cookies, files, auth, timeout, allow_redirects, proxies, hooks, stream, verify, cert, json)\u001b[0m\n\u001b[1;32m    585\u001b[0m         }\n\u001b[1;32m    586\u001b[0m         \u001b[0msend_kwargs\u001b[0m\u001b[0;34m.\u001b[0m\u001b[0mupdate\u001b[0m\u001b[0;34m(\u001b[0m\u001b[0msettings\u001b[0m\u001b[0;34m)\u001b[0m\u001b[0;34m\u001b[0m\u001b[0;34m\u001b[0m\u001b[0m\n\u001b[0;32m--> 587\u001b[0;31m         \u001b[0mresp\u001b[0m \u001b[0;34m=\u001b[0m \u001b[0mself\u001b[0m\u001b[0;34m.\u001b[0m\u001b[0msend\u001b[0m\u001b[0;34m(\u001b[0m\u001b[0mprep\u001b[0m\u001b[0;34m,\u001b[0m \u001b[0;34m**\u001b[0m\u001b[0msend_kwargs\u001b[0m\u001b[0;34m)\u001b[0m\u001b[0;34m\u001b[0m\u001b[0;34m\u001b[0m\u001b[0m\n\u001b[0m\u001b[1;32m    588\u001b[0m \u001b[0;34m\u001b[0m\u001b[0m\n\u001b[1;32m    589\u001b[0m         \u001b[0;32mreturn\u001b[0m \u001b[0mresp\u001b[0m\u001b[0;34m\u001b[0m\u001b[0;34m\u001b[0m\u001b[0m\n",
            "\u001b[0;32m/usr/local/lib/python3.10/dist-packages/requests/sessions.py\u001b[0m in \u001b[0;36msend\u001b[0;34m(self, request, **kwargs)\u001b[0m\n\u001b[1;32m    699\u001b[0m \u001b[0;34m\u001b[0m\u001b[0m\n\u001b[1;32m    700\u001b[0m         \u001b[0;31m# Send the request\u001b[0m\u001b[0;34m\u001b[0m\u001b[0;34m\u001b[0m\u001b[0m\n\u001b[0;32m--> 701\u001b[0;31m         \u001b[0mr\u001b[0m \u001b[0;34m=\u001b[0m \u001b[0madapter\u001b[0m\u001b[0;34m.\u001b[0m\u001b[0msend\u001b[0m\u001b[0;34m(\u001b[0m\u001b[0mrequest\u001b[0m\u001b[0;34m,\u001b[0m \u001b[0;34m**\u001b[0m\u001b[0mkwargs\u001b[0m\u001b[0;34m)\u001b[0m\u001b[0;34m\u001b[0m\u001b[0;34m\u001b[0m\u001b[0m\n\u001b[0m\u001b[1;32m    702\u001b[0m \u001b[0;34m\u001b[0m\u001b[0m\n\u001b[1;32m    703\u001b[0m         \u001b[0;31m# Total elapsed time of the request (approximately)\u001b[0m\u001b[0;34m\u001b[0m\u001b[0;34m\u001b[0m\u001b[0m\n",
            "\u001b[0;32m/usr/local/lib/python3.10/dist-packages/requests/adapters.py\u001b[0m in \u001b[0;36msend\u001b[0;34m(self, request, stream, timeout, verify, cert, proxies)\u001b[0m\n\u001b[1;32m    517\u001b[0m                 \u001b[0;32mraise\u001b[0m \u001b[0mSSLError\u001b[0m\u001b[0;34m(\u001b[0m\u001b[0me\u001b[0m\u001b[0;34m,\u001b[0m \u001b[0mrequest\u001b[0m\u001b[0;34m=\u001b[0m\u001b[0mrequest\u001b[0m\u001b[0;34m)\u001b[0m\u001b[0;34m\u001b[0m\u001b[0;34m\u001b[0m\u001b[0m\n\u001b[1;32m    518\u001b[0m \u001b[0;34m\u001b[0m\u001b[0m\n\u001b[0;32m--> 519\u001b[0;31m             \u001b[0;32mraise\u001b[0m \u001b[0mConnectionError\u001b[0m\u001b[0;34m(\u001b[0m\u001b[0me\u001b[0m\u001b[0;34m,\u001b[0m \u001b[0mrequest\u001b[0m\u001b[0;34m=\u001b[0m\u001b[0mrequest\u001b[0m\u001b[0;34m)\u001b[0m\u001b[0;34m\u001b[0m\u001b[0;34m\u001b[0m\u001b[0m\n\u001b[0m\u001b[1;32m    520\u001b[0m \u001b[0;34m\u001b[0m\u001b[0m\n\u001b[1;32m    521\u001b[0m         \u001b[0;32mexcept\u001b[0m \u001b[0mClosedPoolError\u001b[0m \u001b[0;32mas\u001b[0m \u001b[0me\u001b[0m\u001b[0;34m:\u001b[0m\u001b[0;34m\u001b[0m\u001b[0;34m\u001b[0m\u001b[0m\n",
            "\u001b[0;31mConnectionError\u001b[0m: HTTPConnectionPool(host='localhost', port=19000): Max retries exceeded with url: /api/v2/project (Caused by NewConnectionError('<urllib3.connection.HTTPConnection object at 0x7f72bb04d2d0>: Failed to establish a new connection: [Errno 111] Connection refused'))"
          ]
        }
      ],
      "source": [
        "from giskard import GiskardClient\n",
        "\n",
        "url = \"http://localhost:19000\" #if Giskard is installed locally (for installation, see: https://docs.giskard.ai/start/guides/installation)\n",
        "#url = \"http://app.giskard.ai\" # If you want to upload on giskard URL\n",
        "token = \"YOUR GENERATED TOKEN\" #you can generate your API token in the Admin tab of the Giskard application (for installation, see: https://docs.giskard.ai/start/guides/installation)\n",
        "\n",
        "client = GiskardClient(url, token)\n",
        "\n",
        "# your_project = client.create_project(\"project_key\", \"PROJECT_NAME\", \"DESCRIPTION\")\n",
        "# Choose the arguments you want. But \"project_key\" should be unique and in lower case\n",
        "credit_scoring = client.create_project(\"credit_scoring\", \"German Credit Scoring\", \"Project to predict if user will default\")\n",
        "\n",
        "# If you've already created a project with the key \"credit-scoring\" use\n",
        "#credit_scoring = client.get_project(\"credit_scoring\")\n"
      ]
    },
    {
      "cell_type": "markdown",
      "metadata": {
        "pycharm": {
          "name": "#%% md\n"
        },
        "id": "W75hV2Zj1M83"
      },
      "source": [
        "### Upload your model and a dataset (see [documentation](https://docs.giskard.ai/start/guides/upload-your-model))"
      ]
    },
    {
      "cell_type": "code",
      "execution_count": null,
      "metadata": {
        "pycharm": {
          "name": "#%%\n"
        },
        "id": "6-J14sb51M84"
      },
      "outputs": [],
      "source": [
        "credit_scoring.upload_model_and_df(\n",
        "    prediction_function=clf_logistic_regression.predict_proba, # Python function which takes pandas dataframe as input and returns probabilities for classification model OR returns predictions for regression model\n",
        "    model_type='classification', # \"classification\" for classification model OR \"regression\" for regression model\n",
        "    df=test_data, # the dataset you want to use to inspect your model\n",
        "    column_types=column_types, # A dictionary with columns names of df as key and types(category, numeric, text) of columns as values\n",
        "    target='default', # The column name in df corresponding to the actual target variable (ground truth).\n",
        "    feature_names=list(feature_types.keys()), # List of the feature names of prediction_function\n",
        "    classification_labels=clf_logistic_regression.classes_ ,  # List of the classification labels of your prediction\n",
        "    model_name='logistic_regression_v1', # Name of the model\n",
        "    dataset_name='test_data' # Name of the dataset\n",
        ")"
      ]
    },
    {
      "cell_type": "markdown",
      "metadata": {
        "pycharm": {
          "name": "#%% md\n"
        },
        "id": "9WD6bcHP1M86"
      },
      "source": [
        "### 🌟 If you want to upload a dataset without a model\n",
        "\n",
        "\n",
        "\n",
        "\n"
      ]
    },
    {
      "cell_type": "markdown",
      "metadata": {
        "pycharm": {
          "name": "#%% md\n"
        },
        "id": "i-o3iGpF1M87"
      },
      "source": [
        "For example, let's upload the train set in Giskard, this is key to create drift tests in Giskard.\n"
      ]
    },
    {
      "cell_type": "code",
      "execution_count": null,
      "metadata": {
        "pycharm": {
          "name": "#%%\n"
        },
        "id": "ZPAP5DAy1M88"
      },
      "outputs": [],
      "source": [
        "credit_scoring.upload_df(\n",
        "    df=train_data, # The dataset you want to upload\n",
        "    column_types=column_types, # All the column types of df\n",
        "    target=\"default\", # Do not pass this parameter if dataset doesn't contain target column\n",
        "    name=\"train_data\" # Name of the dataset\n",
        ")"
      ]
    },
    {
      "cell_type": "markdown",
      "metadata": {
        "pycharm": {
          "name": "#%% md\n"
        },
        "id": "DAu_OQxq1M89"
      },
      "source": [
        "You can also upload new production data to use it as a validation set for your existing model. In that case, you might not have the ground truth target variable"
      ]
    },
    {
      "cell_type": "code",
      "execution_count": null,
      "metadata": {
        "pycharm": {
          "name": "#%%\n"
        },
        "id": "_YzBSPMu1M8_"
      },
      "outputs": [],
      "source": [
        "production_data = credit.drop(columns=\"default\")"
      ]
    },
    {
      "cell_type": "code",
      "execution_count": null,
      "metadata": {
        "pycharm": {
          "name": "#%%\n"
        },
        "id": "7x0GXFY91M9A"
      },
      "outputs": [],
      "source": [
        "credit_scoring.upload_df(\n",
        "    df=production_data, # The dataset you want to upload\n",
        "    column_types=feature_types, # All the column types without the target\n",
        "    name=\"production_data\"# Name of the dataset\n",
        ")"
      ]
    },
    {
      "cell_type": "markdown",
      "metadata": {
        "pycharm": {
          "name": "#%% md\n"
        },
        "id": "T4h0Q8Nz1M9B"
      },
      "source": []
    },
    {
      "cell_type": "markdown",
      "metadata": {
        "pycharm": {
          "name": "#%% md\n"
        },
        "id": "TQkWKYUR1M9C"
      },
      "source": [
        "### 🌟 If you just want to upload a model without a dataframe \n",
        "\n",
        "This happens for instance when you built a new version of the model and you want to inspect it using a validation dataframe that is already in Giskard\n",
        "\n",
        "For example, let's create a second version of the model using random forest"
      ]
    },
    {
      "cell_type": "code",
      "execution_count": null,
      "metadata": {
        "pycharm": {
          "name": "#%%\n"
        },
        "id": "kjwG0TOF1M9E"
      },
      "outputs": [],
      "source": [
        "clf_random_forest = Pipeline(steps=[('preprocessor', preprocessor),\n",
        "                      ('classifier', RandomForestClassifier(max_depth=10,random_state=0))])\n",
        "\n",
        "clf_random_forest.fit(X_train, Y_train)\n",
        "clf_random_forest.score(X_test, Y_test)"
      ]
    },
    {
      "cell_type": "code",
      "execution_count": null,
      "metadata": {
        "pycharm": {
          "name": "#%%\n"
        },
        "id": "SqCdUeyx1M9F"
      },
      "outputs": [],
      "source": [
        "credit_scoring.upload_model(\n",
        "    prediction_function=clf_random_forest.predict_proba, # Python function which takes pandas dataframe as input and returns probabilities for classification model OR returns predictions for regression model\n",
        "    model_type='classification', # \"classification\" for classification model OR \"regression\" for regression model\n",
        "    feature_names=list(feature_types.keys()), # List of the feature names of prediction_function\n",
        "    name='random_forest', # Name of the model\n",
        "    validate_df=train_data, # Optional. Validation df is not uploaded in the app, it's only used to check whether the model has the good format\n",
        "    target=\"default\", # Optional. target should be a column of validate_df. Pass this parameter only if validate_df is being passed\n",
        "    classification_labels=[\"Default\",\"Not default\"] # List of the classification labels of your prediction\n",
        "\n",
        ")"
      ]
    },
    {
      "cell_type": "markdown",
      "metadata": {
        "cell_id": "c49894d61f544e8f88030b7be8078c6b",
        "deepnote_app_coordinates": {
          "h": 5,
          "w": 12,
          "x": 0,
          "y": 96
        },
        "deepnote_cell_height": 62,
        "deepnote_cell_type": "markdown",
        "id": "DGQ50rUN7xbe",
        "pycharm": {
          "name": "#%% md\n"
        },
        "tags": []
      },
      "source": [
        "### Happy Exploration ! 🧑‍🚀"
      ]
    }
  ],
  "metadata": {
    "colab": {
      "provenance": []
    },
    "deepnote": {
      "is_reactive": false
    },
    "deepnote_app_layout": "article",
    "deepnote_execution_queue": [],
    "deepnote_notebook_id": "6e7ea85d-f19e-4d05-90a4-44b7668fd037",
    "kernelspec": {
      "display_name": "Python 3",
      "language": "python",
      "name": "python3"
    },
    "language_info": {
      "codemirror_mode": {
        "name": "ipython",
        "version": 3
      },
      "file_extension": ".py",
      "mimetype": "text/x-python",
      "name": "python",
      "nbconvert_exporter": "python",
      "pygments_lexer": "ipython3",
      "version": "3.7.15"
    }
  },
  "nbformat": 4,
  "nbformat_minor": 0
}